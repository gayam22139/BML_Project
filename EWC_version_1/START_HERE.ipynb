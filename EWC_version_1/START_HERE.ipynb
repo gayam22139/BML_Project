{
 "cells": [
  {
   "cell_type": "markdown",
   "metadata": {},
   "source": [
    "# Part 1 intuition behind elastic weight colsolidation\n",
    "\n",
    "In the figure below, $\\theta^{*}$ are the weights (ie parameters, synaptic strengths) learned by the neural network (NN) to solve old task A, shown as a vector in vector space. ie if this neural network as 100 total weights then this is a 2D representation of $\\mathbb{R}^{100}$ space. The blue horizontal arrow shows an example of catastrophic forgetting, whereby $\\theta^{*}$ moves out of the region that allows the NN to perform well at task A (grey), and into the center of a region that allows the NN to perform well at task B (cream). The downward green arrow is the update to $\\theta^{*}$ regularized by L2 penalty $\\alpha (\\theta_{i} - \\theta_{A , i}^{*})^{2}$ that causes it to move toward the cream region irrespective of the shape of the grey region. The desired update vector is the red arrow that moves the NN weights into a region capable of performing well at both tasks A and B. \n",
    "\n",
    "How Elastic Weight Cosolidation Changes Learning New Weights $\\theta^{*}$\n",
    "<p align=\"center\">\n",
    "<img src=\"https://raw.githubusercontent.com/clam004/intro_continual_learning/main/files/F1.large.jpg\" height=500 width=500 >\n",
    "</p>\n",
    "\n",
    "EWC encourages movement of weights along the red path by modifying the loss function when re-training a NN that has already been trained to convergence using the loss function for task A, $L_{A}$, which has settled on weights $\\theta_{A}$. When re-training the NN on task B using $L_{B}$, we add a term which penalizes changes to weights that are both far from $\\theta_{A}$, ie $(\\theta_{i} - \\theta_{A , i}^{*})^{2}$, and also high in $F_{i}$ which encodes the shape of the grey region.\n",
    "\n",
    "$$L \\left(\\right. \\theta \\left.\\right) = L_{B} \\left(\\right. \\theta \\left.\\right) + \\underset{i}{\\sum} \\frac{\\lambda}{2} F_{i} \\left(\\theta_{i} - \\theta_{A , i}^{*}\\right)^{2} $$\n",
    "\n",
    "### But what is F_i? \n",
    "\n",
    "F_i is the diagonal of the Fisher information matrix. We want to use the diagonal components in Fisher Information Matrix to identify which parameters are more important to task A and apply higher weights to them (the direction of the short axis of grey oval). To learn B we should instead change those weights where F_i is small (long axis of grey oval).  \n",
    "\n",
    "In the EWC paper:\n",
    "\n",
    "\"we approximate the posterior as a Gaussian distribution with mean given by the parameters θ∗A and a diagonal precision given by the diagonal of the Fisher information matrix F. F has three key properties (20): (i) It is equivalent to the second derivative of the loss near a minimum, (ii) it can be computed from first-order derivatives alone and is thus easy to calculate even for large models, and (iii) it is guaranteed to be positive semidefinite. Note that this approach is similar to expectation propagation where each subtask is seen as a factor of the posterior (21). where LB(θ) is the loss for task B only, λ sets how important the old task is compared with the new one, and i labels each parameter.\n",
    "\n",
    "When moving to a third task, task C, EWC will try to keep the network parameters close to the learned parameters of both tasks A and B. This can be enforced either with two separate penalties or as one by noting that the sum of two quadratic penalties is itself a quadratic penalty.\"\n",
    "\n",
    "### Lets learn what F is in the example\n",
    "\n",
    "This article gives a very good explaination of F in the context of EWC: [Fisher Information Matrix by Yuan-Hong Liao](https://andrewliao11.github.io/blog/fisher-info-matrix/)\n",
    "\n",
    "To compute F_i, we sample the data from task A once and calculate the empirical Fisher Information Matrix. \n",
    "\n",
    "$$\n",
    "I_{\\theta_\\mathcal{A}^*} = \\frac{1}{N}  \\sum_{i=1}^{N} \\nabla_\\theta log \\ p(x_{\\mathcal{A}, i}|\\theta_\\mathcal{A}^*) \\nabla_\\theta log \\ p(x_{\\mathcal{A}, i}|\\theta_\\mathcal{A}^*)^T\n",
    "$$\n",
    "\n",
    "This is just to say that the above equation is how you calculate the below equation from the data. For each pair of parameters in $\\theta$ ($\\theta_i$ and $\\theta_j$), the Fisher Information matrix at position ij is\n",
    "\n",
    "$$\n",
    "I(\\theta)_{ij} = E\\left[ \\left( \\frac{\\partial}{\\partial\\theta_i}\\log f(X;\\theta) \\right)\\left( \\frac{\\partial}{\\partial\\theta_j}\\log f(X;\\theta) \\right) \\mid \\theta\\right]\n",
    "$$\n",
    "\n",
    "If this equation is hard to understand, then the code should make it clearer, dont worry, we will match parts of the code to the equation above so it becomes more tangible.\n",
    "\n",
    "# Part 2 A look at the data and the task\n",
    "\n",
    "### MNIST\n",
    "\n",
    "The MNIST data set contains 70,000 images of handwritten digits and their corresponding labels. The images are 28x28 with pixel values from 0 to 255. The labels are the digits from 0 to 9. By default 60,000 of these images belong to a training set and 10,000 of these images belong to a test set.\n",
    "\n",
    "### Fashion-MNIST\n",
    "\n",
    "Fashion-MNIST is a dataset of Zalando's article images—consisting of a training set of 60,000 examples and a test set of 10,000 examples. Each example is a 28x28 grayscale image, associated with a label from 10 classes. Zalando intends Fashion-MNIST to serve as a direct drop-in replacement for the original MNIST dataset for benchmarking machine learning algorithms. It shares the same image size and structure of training and testing splits.\n",
    "\n",
    "Each training and test example is assigned to one of the following labels:\n",
    "\n",
    "- 0 T-shirt/top\n",
    "- 1 Trouser\n",
    "- 2 Pullover\n",
    "- 3 Dress\n",
    "- 4 Coat\n",
    "- 5 Sandal\n",
    "- 6 Shirt\n",
    "- 7 Sneaker\n",
    "- 8 Bag\n",
    "- 9 Ankle boot\n",
    "\n",
    "## Task\n",
    "\n",
    "as you might guess, our goal is to train an NN that retains it's ability to perform well on MNIST after being retrained on only Fashion-MNIST"
   ]
  },
  {
   "cell_type": "code",
   "execution_count": 1,
   "metadata": {},
   "outputs": [],
   "source": [
    "import numpy as np\n",
    "from PIL import Image \n",
    "from matplotlib import pyplot as plt\n",
    "from matplotlib.pyplot import imshow\n",
    "import torchvision \n",
    "from contlearn.getdata import getMNIST, getFashionMNIST\n",
    "import torch\n",
    "\n",
    "%load_ext autoreload\n",
    "%autoreload 2\n",
    "%matplotlib inline"
   ]
  },
  {
   "cell_type": "code",
   "execution_count": 2,
   "metadata": {},
   "outputs": [],
   "source": [
    "from torch.utils.data import Dataset, DataLoader\n",
    "from torchvision import datasets, transforms"
   ]
  },
  {
   "cell_type": "code",
   "execution_count": 6,
   "metadata": {},
   "outputs": [],
   "source": [
    "# from torch.utils.data import Dataset, DataLoader\n",
    "# from torchvision import datasets, transforms\n",
    "\n",
    "# def getMNIST(batch_size=64):\n",
    "#     train_data = datasets.MNIST('../data',download = True,train =True, transform = transforms.ToTensor()) \n",
    "#     test_data = datasets.MNIST('../data',train = False, download = True,transform = transforms.ToTensor())\n",
    "#     train_loader_mnist = DataLoader(train_data,batch_size = batch_size ,shuffle=True) \n",
    "#     test_loader_mnist = DataLoader(test_data,batch_size=batch_size)\n",
    "\n",
    "#     return train_loader_mnist, test_loader_mnist"
   ]
  },
  {
   "cell_type": "code",
   "execution_count": 3,
   "metadata": {},
   "outputs": [],
   "source": [
    "# task A training and test set\n",
    "train_loader_mnist, test_loader_mnist = getMNIST(batch_size=32)\n",
    "\n",
    "# task B training and test set\n",
    "train_loader_fashion, test_loader_fashion = getFashionMNIST(batch_size=32)"
   ]
  },
  {
   "cell_type": "code",
   "execution_count": 4,
   "metadata": {},
   "outputs": [
    {
     "name": "stdout",
     "output_type": "stream",
     "text": [
      "input_image shape torch.Size([32, 1, 28, 28]) target_label torch.Size([32])\n",
      "tensor(2)\n",
      "torch.Size([28, 28])\n"
     ]
    },
    {
     "data": {
      "text/plain": [
       "<matplotlib.image.AxesImage at 0x7ff3c9195f90>"
      ]
     },
     "execution_count": 4,
     "metadata": {},
     "output_type": "execute_result"
    },
    {
     "data": {
      "image/png": "[encoded data removed]",
      "text/plain": [
       "<Figure size 640x480 with 1 Axes>"
      ]
     },
     "metadata": {},
     "output_type": "display_data"
    }
   ],
   "source": [
    "input_image, target_label = next(iter(train_loader_mnist))\n",
    "\n",
    "print(\"input_image shape\",input_image.shape,\"target_label\",target_label.shape)\n",
    "print(target_label[0])\n",
    "print(input_image[0][0].shape)\n",
    "\n",
    "img = Image.fromarray(input_image[0][0].detach().cpu().numpy()*255)\n",
    "\n",
    "plt.imshow(img) \n",
    "\n",
    "plt.imshow(Image.fromarray(input_image[0][0].numpy()*255)) "
   ]
  },
  {
   "cell_type": "code",
   "execution_count": 5,
   "metadata": {},
   "outputs": [
    {
     "name": "stdout",
     "output_type": "stream",
     "text": [
      "['T-shirt/top', 'Trouser', 'Pullover', 'Dress', 'Coat', 'Sandal', 'Shirt', 'Sneaker', 'Bag', 'Ankle boot']\n",
      "Shirt\n"
     ]
    },
    {
     "data": {
      "text/plain": [
       "<matplotlib.image.AxesImage at 0x7ff3c321a010>"
      ]
     },
     "execution_count": 5,
     "metadata": {},
     "output_type": "execute_result"
    },
    {
     "data": {
      "image/png": "[encoded data removed]",
      "text/plain": [
       "<Figure size 640x480 with 1 Axes>"
      ]
     },
     "metadata": {},
     "output_type": "display_data"
    }
   ],
   "source": [
    "label_mappings = torchvision.datasets.FashionMNIST.classes\n",
    "print(label_mappings)\n",
    "input_image, target_label = next(iter(train_loader_fashion))\n",
    "print(label_mappings[target_label[0].item()])\n",
    "plt.imshow(Image.fromarray(input_image[0][0].detach().cpu().numpy()*255))"
   ]
  },
  {
   "cell_type": "code",
   "execution_count": 6,
   "metadata": {},
   "outputs": [
    {
     "name": "stdout",
     "output_type": "stream",
     "text": [
      "Dress\n",
      "torch.Size([28, 28])\n"
     ]
    },
    {
     "data": {
      "text/plain": [
       "<matplotlib.image.AxesImage at 0x7ff3c30fe9d0>"
      ]
     },
     "execution_count": 6,
     "metadata": {},
     "output_type": "execute_result"
    },
    {
     "data": {
      "image/png": "[encoded data removed]",
      "text/plain": [
       "<Figure size 640x480 with 1 Axes>"
      ]
     },
     "metadata": {},
     "output_type": "display_data"
    }
   ],
   "source": [
    "input_image, target_label = next(iter(train_loader_fashion))\n",
    "\n",
    "fashion_key = {\n",
    "    0: \"T-shirt/top\",\n",
    "    1: \"Trouser\",\n",
    "    2: \"Pullover\",\n",
    "    3: \"Dress\",\n",
    "    4: \"Coat\",\n",
    "    5: \"Sandal\",\n",
    "    6: \"Shirt\",\n",
    "    7: \"Sneaker\",\n",
    "    8: \"Bag\",\n",
    "    9: \"Ankle boot\",\n",
    "}\n",
    "\n",
    "print(fashion_key[int(target_label[0].detach().cpu().numpy())])\n",
    "print(input_image[0][0].shape)\n",
    "\n",
    "img = Image.fromarray(input_image[0][0].detach().cpu().numpy()*255)\n",
    "\n",
    "plt.imshow(img)"
   ]
  },
  {
   "cell_type": "markdown",
   "metadata": {},
   "source": [
    "# Part 3 Baseline results\n",
    "\n",
    "first we train on MNIST and the we will observe the drop in performance once we retrain on Fashion-MNIST, WITHOUT Elastic Weight Consolidation"
   ]
  },
  {
   "cell_type": "code",
   "execution_count": 7,
   "metadata": {},
   "outputs": [
    {
     "name": "stdout",
     "output_type": "stream",
     "text": [
      "The autoreload extension is already loaded. To reload it, use:\n",
      "  %reload_ext autoreload\n",
      "you are using PyTorch version  2.0.1\n",
      "you have 2 GPUs\n",
      "cuda:0\n"
     ]
    }
   ],
   "source": [
    "import math\n",
    "import random\n",
    "\n",
    "import numpy as np\n",
    "import torch\n",
    "from matplotlib import pyplot as plt\n",
    "from matplotlib.pyplot import imshow\n",
    "from tqdm.notebook import tqdm\n",
    "\n",
    "from contlearn.getmodels import MLP,CNN\n",
    "from contlearn.gettrainer import one_epoch_baseline, test, var2device\n",
    "\n",
    "%load_ext autoreload\n",
    "%autoreload 2\n",
    "%matplotlib inline\n",
    "\n",
    "print('you are using PyTorch version ',torch.__version__)\n",
    "\n",
    "if torch.cuda.is_available():\n",
    "    use_cuda = True\n",
    "    print(\"you have\", torch.cuda.device_count(), \"GPUs\")\n",
    "    device = torch.device(\"cuda:0\")\n",
    "    print(device)\n",
    "else:\n",
    "    use_cuda = False\n",
    "    print('no GPUs detected')\n",
    "    device = torch.device(\"cpu\") "
   ]
  },
  {
   "cell_type": "code",
   "execution_count": 8,
   "metadata": {},
   "outputs": [
    {
     "name": "stdout",
     "output_type": "stream",
     "text": [
      "before squeeze [[1. 1. 1.]]\n",
      "after squeeze [1. 1. 1.]\n",
      "torch.Size([3])\n"
     ]
    }
   ],
   "source": [
    "import torch\n",
    "dummy = torch.ones(1,3)\n",
    "print(f'before squeeze {dummy.numpy()}')\n",
    "y = torch.squeeze(dummy)\n",
    "print(f'after squeeze {y.numpy()}')\n",
    "print(y.shape) "
   ]
  },
  {
   "cell_type": "code",
   "execution_count": 9,
   "metadata": {},
   "outputs": [
    {
     "name": "stdout",
     "output_type": "stream",
     "text": [
      "before squeeze [[[1 1 1]]\n",
      "\n",
      " [[1 1 1]]]\n",
      "after squeeze [[1 1 1]\n",
      " [1 1 1]]\n",
      "torch.Size([2, 3])\n"
     ]
    }
   ],
   "source": [
    "import torch\n",
    "dummy = torch.ones(2,1,3,dtype = int)\n",
    "print(f'before squeeze {dummy.numpy()}')\n",
    "y = torch.squeeze(dummy)\n",
    "print(f'after squeeze {y.numpy()}')\n",
    "print(y.shape) "
   ]
  },
  {
   "cell_type": "code",
   "execution_count": 10,
   "metadata": {},
   "outputs": [
    {
     "name": "stdout",
     "output_type": "stream",
     "text": [
      "tensor([[[[1.],\n",
      "          [1.],\n",
      "          [1.]]],\n",
      "\n",
      "\n",
      "        [[[1.],\n",
      "          [1.],\n",
      "          [1.]]]]) torch.Size([2, 1, 3, 1])\n",
      "torch.Size([2, 3, 1]) torch.Size([2, 1, 3])\n"
     ]
    }
   ],
   "source": [
    "dummy = torch.ones(2,1,3,1)\n",
    "print(dummy,dummy.shape)\n",
    "dummy_ans1 = dummy.squeeze(1)\n",
    "dummy_ans2 = dummy.squeeze(3)\n",
    "print (dummy_ans1.shape,dummy_ans2.shape) "
   ]
  },
  {
   "cell_type": "code",
   "execution_count": 11,
   "metadata": {},
   "outputs": [
    {
     "name": "stdout",
     "output_type": "stream",
     "text": [
      "torch.Size([32, 1, 28, 28])\n",
      "torch.Size([32, 1, 28, 28])\n",
      "torch.Size([32, 10])\n"
     ]
    }
   ],
   "source": [
    "# initialize a new model\n",
    "\n",
    "# model = MLP(hidden_size=256) # model is the obj of MLP class\n",
    "model = CNN()\n",
    "\n",
    "# device = \"cuda:0\" if torch.cuda.is_available() else \"cpu\"\n",
    "# model.to(device)\n",
    "if torch.cuda.is_available() and use_cuda:\n",
    "    model.cuda()\n",
    "    \n",
    "# push an image through it\n",
    "\n",
    "input_image, target_label = next(iter(train_loader_fashion)) \n",
    "\n",
    "print(input_image.shape) \n",
    "\n",
    "input_image = var2device(input_image) # for CNN shouldn't squeeze\n",
    "# input_image = var2device(input_image).squeeze(1)\n",
    "# input_image = input_image.squeeze(1).to(device)\n",
    "\n",
    "print(input_image.shape) \n",
    "\n",
    "output = model(input_image)\n",
    "\n",
    "print(output.shape)"
   ]
  },
  {
   "cell_type": "code",
   "execution_count": 12,
   "metadata": {},
   "outputs": [
    {
     "data": {
      "text/plain": [
       "tensor([[0., 0., 0.,  ..., 0., 0., 0.],\n",
       "        [0., 0., 0.,  ..., 0., 0., 0.],\n",
       "        [0., 0., 0.,  ..., 0., 0., 0.],\n",
       "        ...,\n",
       "        [0., 0., 0.,  ..., 0., 0., 0.],\n",
       "        [0., 0., 0.,  ..., 0., 0., 0.],\n",
       "        [0., 0., 0.,  ..., 0., 0., 0.]], device='cuda:0')"
      ]
     },
     "execution_count": 12,
     "metadata": {},
     "output_type": "execute_result"
    }
   ],
   "source": [
    "m = input_image\n",
    "m.view(m.shape[0], -1)  #(32,28,28) -> (32,784)"
   ]
  },
  {
   "cell_type": "code",
   "execution_count": 13,
   "metadata": {},
   "outputs": [
    {
     "name": "stdout",
     "output_type": "stream",
     "text": [
      "after softmax \n",
      " tensor([[0.1318, 0.0745, 0.0864, 0.1262, 0.1059, 0.0554, 0.0780, 0.1396, 0.1466,\n",
      "         0.0556],\n",
      "        [0.0919, 0.1014, 0.0719, 0.0855, 0.1338, 0.1320, 0.1190, 0.1447, 0.0578,\n",
      "         0.0619]]) torch.Size([2, 10])\n",
      "after torch.max \n",
      " torch.return_types.max(\n",
      "values=tensor([0.1466, 0.1447]),\n",
      "indices=tensor([8, 7])) shape after max is : torch.Size([2])\n",
      "after slicing torch.max \n",
      " tensor([8, 7])\n"
     ]
    }
   ],
   "source": [
    "from torch.nn import functional as F\n",
    "n = torch.rand(2,10)\n",
    "n = F.softmax(n, dim=1)\n",
    "print(\"after softmax \\n\",n, n.shape)\n",
    "n = n.max(dim=1)\n",
    "print(\"after torch.max \\n\",n,\"shape after max is :\",n[0].shape)\n",
    "n = n[1]\n",
    "print(\"after slicing torch.max \\n\",n) "
   ]
  },
  {
   "cell_type": "code",
   "execution_count": null,
   "metadata": {},
   "outputs": [],
   "source": []
  },
  {
   "cell_type": "code",
   "execution_count": 16,
   "metadata": {},
   "outputs": [],
   "source": [
    "def baseline_training(\n",
    "    model, \n",
    "    epochs, \n",
    "    train_loader,\n",
    "    test_loader,\n",
    "    test2_loader = None,\n",
    "    use_cuda=True, \n",
    "):\n",
    "    \n",
    "    \"\"\"\n",
    "    This function saves the training curve data consisting\n",
    "    training set loss and validation set accuracy over the\n",
    "    course of the epochs of training.\n",
    "    \n",
    "    I set this up such that if you provide 2 test sets,you\n",
    "    can watch the test accuracy change together during training\n",
    "    on train_loader \n",
    "\n",
    "    \"\"\"\n",
    "    \n",
    "    if torch.cuda.is_available() and use_cuda:\n",
    "        model.cuda()\n",
    "    # device = \"cuda:0\" if torch.cuda.is_available() else \"cpu\"\n",
    "    # model.to(device) \n",
    "        \n",
    "    train_loss, val_acc, val2_acc = [], [], []\n",
    "    \n",
    "    for epoch in tqdm(range(epochs)):\n",
    "\n",
    "        epoch_loss = one_epoch_baseline(model,train_loader) #for 1st epoch we have initialized model, train_loader\n",
    "        train_loss.append(epoch_loss)\n",
    "        \n",
    "        acc = test(model,test_loader)    \n",
    "        val_acc.append(acc.detach().cpu().numpy())  \n",
    "        \n",
    "        if test2_loader is not None:\n",
    "            acc2 = test(model,test2_loader)\n",
    "            val2_acc.append(acc2.detach().cpu().numpy())\n",
    "            print(f\"epoch {epoch+1}, train_loss : {epoch_loss}, val_accuracy : {acc},val_accuracy on testset 2 is {acc2}\") \n",
    "        if test2_loader is  None:\n",
    "            print(f\"epoch {epoch+1}, train_loss : {epoch_loss}, val_accuracy : {acc}\")  \n",
    "    return train_loss, val_acc, val2_acc, model  "
   ]
  },
  {
   "cell_type": "code",
   "execution_count": 19,
   "metadata": {},
   "outputs": [
    {
     "data": {
      "application/vnd.jupyter.widget-view+json": {
       "model_id": "4291acf0d7184792b60b3a619cfcf837",
       "version_major": 2,
       "version_minor": 0
      },
      "text/plain": [
       "  0%|          | 0/25 [00:00<?, ?it/s]"
      ]
     },
     "metadata": {},
     "output_type": "display_data"
    },
    {
     "name": "stdout",
     "output_type": "stream",
     "text": [
      "epoch 1, train_loss : 1.7875411809603374, val_accuracy : 0.8148999810218811\n",
      "epoch 2, train_loss : 0.7233698037306467, val_accuracy : 0.8736000061035156\n",
      "epoch 3, train_loss : 0.4607664225737254, val_accuracy : 0.8960999846458435\n",
      "epoch 4, train_loss : 0.3890618087093035, val_accuracy : 0.9019999504089355\n",
      "epoch 5, train_loss : 0.3555853017131487, val_accuracy : 0.9080999493598938\n",
      "epoch 6, train_loss : 0.3351425072193146, val_accuracy : 0.9116999506950378\n",
      "epoch 7, train_loss : 0.320453354760011, val_accuracy : 0.9149999618530273\n",
      "epoch 8, train_loss : 0.30845043251911797, val_accuracy : 0.9164999723434448\n",
      "epoch 9, train_loss : 0.2986701181034247, val_accuracy : 0.9194999933242798\n",
      "epoch 10, train_loss : 0.28936025410691896, val_accuracy : 0.9217999577522278\n",
      "epoch 11, train_loss : 0.2813417680402597, val_accuracy : 0.9240999817848206\n",
      "epoch 12, train_loss : 0.2732954038242499, val_accuracy : 0.925599992275238\n",
      "epoch 13, train_loss : 0.2661187421341737, val_accuracy : 0.9291999936103821\n",
      "epoch 14, train_loss : 0.2585504446407159, val_accuracy : 0.9314000010490417\n",
      "epoch 15, train_loss : 0.2515222276757161, val_accuracy : 0.9329999685287476\n",
      "epoch 16, train_loss : 0.24436186347405114, val_accuracy : 0.9337999820709229\n",
      "epoch 17, train_loss : 0.23765024693608283, val_accuracy : 0.9364999532699585\n",
      "epoch 18, train_loss : 0.23068562352359295, val_accuracy : 0.9384999871253967\n",
      "epoch 19, train_loss : 0.22420409670372804, val_accuracy : 0.9399999976158142\n",
      "epoch 20, train_loss : 0.21775507430136204, val_accuracy : 0.9423999786376953\n",
      "epoch 21, train_loss : 0.2113493808497985, val_accuracy : 0.9430999755859375\n",
      "epoch 22, train_loss : 0.205293311398228, val_accuracy : 0.9447000026702881\n",
      "epoch 23, train_loss : 0.19925464101533094, val_accuracy : 0.9455999732017517\n",
      "epoch 24, train_loss : 0.19348185564478237, val_accuracy : 0.9469999670982361\n",
      "epoch 25, train_loss : 0.18814384418229263, val_accuracy : 0.9474999904632568\n"
     ]
    }
   ],
   "source": [
    "# set seeds for reproducibility and train the model using the training loop called\n",
    "# baseline_training\n",
    "\n",
    "torch.manual_seed(0)\n",
    "np.random.seed(0)\n",
    "random.seed(0)\n",
    "\n",
    "train_loss, val_acc, val2_acc,  model = baseline_training(\n",
    "    model,\n",
    "    epochs = 25,\n",
    "    train_loader = train_loader_mnist,\n",
    "    test_loader = test_loader_mnist,\n",
    ")\n",
    "\n",
    "# save the trained model\n",
    "# model = model.cpu()\n",
    "# torch.save(model, \"files/basemodel.pth\")"
   ]
  },
  {
   "cell_type": "code",
   "execution_count": 20,
   "metadata": {},
   "outputs": [],
   "source": [
    "model = model.cpu()\n",
    "torch.save(model.state_dict(), \"files/mnist_task_a_model.pth\")"
   ]
  },
  {
   "cell_type": "code",
   "execution_count": 21,
   "metadata": {},
   "outputs": [
    {
     "data": {
      "image/png": "[encoded data removed]",
      "text/plain": [
       "<Figure size 640x480 with 1 Axes>"
      ]
     },
     "metadata": {},
     "output_type": "display_data"
    }
   ],
   "source": [
    "plt.figure()\n",
    "plt.xlabel('epochs', fontsize=25)\n",
    "plt.ylabel('validation accuracy', fontsize=25)\n",
    "plt.plot(val_acc, label='mnist')\n",
    "plt.legend()\n",
    "plt.show() "
   ]
  },
  {
   "cell_type": "markdown",
   "metadata": {},
   "source": [
    "### learning curve\n",
    "you should get something like this where the accuracy starts to plateau at around 75% for this simple feed forward model\n",
    "\n",
    "<img src=\"https://raw.githubusercontent.com/clam004/intro_continual_learning/main/files/baseline_mnist.png\">"
   ]
  },
  {
   "cell_type": "code",
   "execution_count": 45,
   "metadata": {},
   "outputs": [
    {
     "name": "stdout",
     "output_type": "stream",
     "text": [
      "mnist accuracy tensor(0.9475, device='cuda:0')\n",
      "fashion accuracy tensor(0.1238, device='cuda:0')\n"
     ]
    }
   ],
   "source": [
    "# you can use this to load the model instead of training it from scratch like above \n",
    "\n",
    "# model = torch.load(\"files/basemodel.pth\")\n",
    "model.load_state_dict(torch.load(\"files/mnist_task_a_model.pth\"))\n",
    "if torch.cuda.is_available() and use_cuda:\n",
    "    model.cuda()\n",
    "    \n",
    "# tensor(0.8238, device='cuda:0') means that the test set accuracy was 82.4%\n",
    "# compared to a baseline accuracy of 10% if the model is choosing randomly\n",
    "print('mnist accuracy', test(model,test_loader_mnist))\n",
    "print('fashion accuracy', test(model,test_loader_fashion)) "
   ]
  },
  {
   "cell_type": "markdown",
   "metadata": {},
   "source": [
    "### Catastrophic Forgetting\n",
    "\n",
    "This is one of the main problems we are trying to solve in the continual learning, aka lifelong learning, aka sequential learning, research field. As you can see, learning Fashion MNIST also degrades performance on original MNIST. In part this is because some of the useful parameters, aka weights, used for original MNIST, are overwritten or updated past what is useful for original MNIST in order to become useful for Fashion MNIST\n",
    "\n",
    "We expect something like this in which the fashion accuracy increases from it's random performance at around 10% to almost 40% and the mnist test accuracy drops to below 30% from a previous performance of around 80%\n",
    "<img src=\"https://raw.githubusercontent.com/clam004/intro_continual_learning/main/files/catastrophic_forgetting.png\">\n",
    "\n"
   ]
  },
  {
   "cell_type": "code",
   "execution_count": 17,
   "metadata": {},
   "outputs": [
    {
     "data": {
      "application/vnd.jupyter.widget-view+json": {
       "model_id": "5f56f1c79c234e1999a3732e88f59d81",
       "version_major": 2,
       "version_minor": 0
      },
      "text/plain": [
       "  0%|          | 0/25 [00:00<?, ?it/s]"
      ]
     },
     "metadata": {},
     "output_type": "display_data"
    },
    {
     "name": "stdout",
     "output_type": "stream",
     "text": [
      "epoch 1, train_loss : 0.9578390801111857, val_accuracy : 0.7554999589920044,val_accuracy on testset 2 is 0.7202000021934509\n",
      "epoch 2, train_loss : 0.6141088027397792, val_accuracy : 0.7888000011444092,val_accuracy on testset 2 is 0.6298999786376953\n",
      "epoch 3, train_loss : 0.5498990590731303, val_accuracy : 0.8037999868392944,val_accuracy on testset 2 is 0.5554999709129333\n",
      "epoch 4, train_loss : 0.5141347254037857, val_accuracy : 0.8148999810218811,val_accuracy on testset 2 is 0.5137999653816223\n",
      "epoch 5, train_loss : 0.49047638648351033, val_accuracy : 0.8193999528884888,val_accuracy on testset 2 is 0.4643999934196472\n",
      "epoch 6, train_loss : 0.47194266661802925, val_accuracy : 0.8269000053405762,val_accuracy on testset 2 is 0.431799978017807\n",
      "epoch 7, train_loss : 0.457468198633194, val_accuracy : 0.8278999924659729,val_accuracy on testset 2 is 0.4170999825000763\n",
      "epoch 8, train_loss : 0.44584247548182804, val_accuracy : 0.8277999758720398,val_accuracy on testset 2 is 0.3937999904155731\n",
      "epoch 9, train_loss : 0.43532938439846036, val_accuracy : 0.833899974822998,val_accuracy on testset 2 is 0.38109999895095825\n",
      "epoch 10, train_loss : 0.426622120543321, val_accuracy : 0.8379999995231628,val_accuracy on testset 2 is 0.36069998145103455\n",
      "epoch 11, train_loss : 0.41806536493301394, val_accuracy : 0.8418999910354614,val_accuracy on testset 2 is 0.34540000557899475\n",
      "epoch 12, train_loss : 0.41152369765043256, val_accuracy : 0.8430999517440796,val_accuracy on testset 2 is 0.34039998054504395\n",
      "epoch 13, train_loss : 0.4046879134376844, val_accuracy : 0.8465999960899353,val_accuracy on testset 2 is 0.32829999923706055\n",
      "epoch 14, train_loss : 0.3986314787507057, val_accuracy : 0.8405999541282654,val_accuracy on testset 2 is 0.3269999921321869\n",
      "epoch 15, train_loss : 0.3930744390249252, val_accuracy : 0.8490999937057495,val_accuracy on testset 2 is 0.32569998502731323\n",
      "epoch 16, train_loss : 0.3882118470986684, val_accuracy : 0.8436999917030334,val_accuracy on testset 2 is 0.32420000433921814\n",
      "epoch 17, train_loss : 0.38297050356467566, val_accuracy : 0.8551999926567078,val_accuracy on testset 2 is 0.31700000166893005\n",
      "epoch 18, train_loss : 0.3787048580169678, val_accuracy : 0.8574000000953674,val_accuracy on testset 2 is 0.31209999322891235\n",
      "epoch 19, train_loss : 0.3745827830910683, val_accuracy : 0.8519999980926514,val_accuracy on testset 2 is 0.30559998750686646\n",
      "epoch 20, train_loss : 0.37038601130644483, val_accuracy : 0.8603999614715576,val_accuracy on testset 2 is 0.3043999969959259\n",
      "epoch 21, train_loss : 0.3660204075117906, val_accuracy : 0.8578000068664551,val_accuracy on testset 2 is 0.3125999867916107\n",
      "epoch 22, train_loss : 0.36313538529078165, val_accuracy : 0.8628000020980835,val_accuracy on testset 2 is 0.299699991941452\n",
      "epoch 23, train_loss : 0.35949176285266876, val_accuracy : 0.864799976348877,val_accuracy on testset 2 is 0.29919999837875366\n",
      "epoch 24, train_loss : 0.35635115643342336, val_accuracy : 0.8644999861717224,val_accuracy on testset 2 is 0.299699991941452\n",
      "epoch 25, train_loss : 0.35319607899983724, val_accuracy : 0.864799976348877,val_accuracy on testset 2 is 0.29919999837875366\n"
     ]
    }
   ],
   "source": [
    "torch.manual_seed(0)\n",
    "np.random.seed(0)\n",
    "random.seed(0)\n",
    "\n",
    "train_loss, val_acc, val2_acc,  model = baseline_training(\n",
    "    model,\n",
    "    epochs = 25,\n",
    "    train_loader = train_loader_fashion,\n",
    "    test_loader = test_loader_fashion,\n",
    "    test2_loader = test_loader_mnist,\n",
    ")"
   ]
  },
  {
   "cell_type": "code",
   "execution_count": 18,
   "metadata": {},
   "outputs": [
    {
     "data": {
      "image/png": "[encoded data removed]",
      "text/plain": [
       "<Figure size 640x480 with 1 Axes>"
      ]
     },
     "metadata": {},
     "output_type": "display_data"
    }
   ],
   "source": [
    "plt.figure()\n",
    "plt.xlabel('epochs', fontsize=25)\n",
    "plt.ylabel('validation accuracy', fontsize=25)\n",
    "plt.plot(val_acc, label='fashion')\n",
    "plt.plot(val2_acc, label='mnist')\n",
    "plt.legend()\n",
    "plt.show()"
   ]
  },
  {
   "cell_type": "markdown",
   "metadata": {},
   "source": [
    "# Part 4 Elastic Weight Consolidation\n",
    "\n",
    "now that we have implemented the control group, lets implement the experimental group\n",
    "\n",
    "instead of revisiting every old MNIST example to build our Fisher Information Matrix, we will visit num_samples of them to form a approximate of the matrix\n",
    "\n",
    "please read the comments in the EWC class, which explains each step of the math needed\n",
    "to calculate the EWC loss function, dont worry if it doesnt make sense, we will then go through it step by step\n",
    "\n",
    "After gathering your examples of task A in the cell below, mnist, run the below cells from the second cell all the way to \n",
    "\n",
    "#### sum the squares of the gradients\n",
    "\n",
    "comparing the norm of the precision _matrices when you use a pretrained model and using a randomly initialized model "
   ]
  },
  {
   "cell_type": "code",
   "execution_count": 19,
   "metadata": {},
   "outputs": [
    {
     "name": "stdout",
     "output_type": "stream",
     "text": [
      "num_samples 512\n"
     ]
    }
   ],
   "source": [
    "# instead of revisiting every old MNIST example to build our Fisher Information Matrix\n",
    "# use num_samples of them to calculate a approximate of the matrix \n",
    "\n",
    "torch.manual_seed(0)\n",
    "np.random.seed(0)\n",
    "random.seed(0)\n",
    "\n",
    "num_batches = 16\n",
    "\n",
    "old_tasks = []\n",
    "\n",
    "for sample in range(num_batches):\n",
    "    input_batch, target_batch = next(iter(train_loader_mnist))\n",
    "    for image in input_batch:\n",
    "        old_tasks.append(image)\n",
    "    \n",
    "print(\"num_samples\", len(old_tasks)) "
   ]
  },
  {
   "cell_type": "code",
   "execution_count": 20,
   "metadata": {},
   "outputs": [
    {
     "name": "stdout",
     "output_type": "stream",
     "text": [
      "torch.Size([1, 28, 28])\n"
     ]
    }
   ],
   "source": [
    "for item in old_tasks:\n",
    "    print(item.shape)\n",
    "    break"
   ]
  },
  {
   "cell_type": "code",
   "execution_count": 42,
   "metadata": {},
   "outputs": [
    {
     "name": "stdout",
     "output_type": "stream",
     "text": [
      "The autoreload extension is already loaded. To reload it, use:\n",
      "  %reload_ext autoreload\n",
      "accuracy on mnist test set 0.9474999904632568\n"
     ]
    }
   ],
   "source": [
    "from copy import deepcopy\n",
    "\n",
    "import torch\n",
    "from torch import nn\n",
    "from torch.nn import functional as F\n",
    "from torch.autograd import Variable\n",
    "from torch import optim\n",
    "import torch.utils.data\n",
    "\n",
    "from contlearn.getmodels import MLP\n",
    "from contlearn.gettrainer import var2device\n",
    "\n",
    "%load_ext autoreload\n",
    "%autoreload 2\n",
    "%matplotlib inline\n",
    "\n",
    "\n",
    "# Uncomment one of the two below lines of code that instantiates a model\n",
    "### birth a new randomly initiated model ###\n",
    "\n",
    "# model = MLP(hidden_size=256)\n",
    "\n",
    "### load a model previously trained on one task, task A ###\n",
    "\n",
    "# model = torch.load(\"files/basemodel.pth\")\n",
    "model.load_state_dict(torch.load(\"files/mnist_task_a_model.pth\"))\n",
    "#####\n",
    "\n",
    "\n",
    "if torch.cuda.is_available() and use_cuda:\n",
    "    model.cuda()    \n",
    "# tensor(0.8238, device='cuda:0') means that the test set accuracy was 82.4%\n",
    "# compared to a baseline accuracy of 10% if the model is choosing randomly\n",
    "acc = test(model,test_loader_mnist)\n",
    "print(\"accuracy on mnist test set\", acc.item())"
   ]
  },
  {
   "cell_type": "code",
   "execution_count": 43,
   "metadata": {},
   "outputs": [
    {
     "data": {
      "text/plain": [
       "CNN(\n",
       "  (conv1): Conv2d(1, 32, kernel_size=(3, 3), stride=(1, 1), padding=(1, 1))\n",
       "  (pool): MaxPool2d(kernel_size=2, stride=2, padding=0, dilation=1, ceil_mode=False)\n",
       "  (fc1): Linear(in_features=6272, out_features=100, bias=True)\n",
       "  (fc2): Linear(in_features=100, out_features=10, bias=True)\n",
       ")"
      ]
     },
     "execution_count": 43,
     "metadata": {},
     "output_type": "execute_result"
    }
   ],
   "source": [
    "model"
   ]
  },
  {
   "cell_type": "code",
   "execution_count": 44,
   "metadata": {},
   "outputs": [
    {
     "name": "stdout",
     "output_type": "stream",
     "text": [
      "torch.Size([32, 1, 3, 3])\n",
      "torch.Size([32])\n",
      "torch.Size([100, 6272])\n",
      "torch.Size([100])\n",
      "torch.Size([10, 100])\n",
      "torch.Size([10])\n"
     ]
    }
   ],
   "source": [
    "for param in model.parameters():\n",
    "    print(param.shape) "
   ]
  },
  {
   "cell_type": "code",
   "execution_count": 24,
   "metadata": {},
   "outputs": [],
   "source": [
    "# class EWC(object):\n",
    "    \n",
    "#     \"\"\"\n",
    "#     Class to calculate the Fisher Information Matrix\n",
    "#     used in the Elastic Weight Consolidation portion\n",
    "#     of the loss function\n",
    "#     \"\"\"\n",
    "    \n",
    "#     def __init__(self, model: nn.Module, dataset: list):\n",
    "\n",
    "#         self.model = model #pretrained model\n",
    "#         self.dataset = dataset #samples from the old task or tasks\n",
    "        \n",
    "#         # n is the string name of the parameter matrix p, aka theta, aka weights\n",
    "#         # in self.params we reference all of those weights that are open to\n",
    "#         # being updated by the gradient   \n",
    "#         self.params = {n: p for n, p in self.model.named_parameters() if p.requires_grad}\n",
    "        \n",
    "#         # make a copy of the old weights, ie theta_A,star, ie 𝜃∗A, in the loss equation\n",
    "#         # we need this to calculate (𝜃 - 𝜃∗A)^2 because self.params will be changing \n",
    "#         # upon every backward pass and parameter update by the optimizer\n",
    "#         self._means = {}\n",
    "#         for n, p in deepcopy(self.params).items():\n",
    "#             self._means[n] = var2device(p.data)\n",
    "        \n",
    "#         # calculate the fisher information matrix \n",
    "#         self._precision_matrices = self._diag_fisher() \n",
    "\n",
    "#     def _diag_fisher(self):\n",
    "        \n",
    "#         # save a copy of the zero'd out version of\n",
    "#         # each layer's parameters of the same shape\n",
    "#         # to precision_matrices[n]\n",
    "#         precision_matrices = {}\n",
    "#         for n, p in deepcopy(self.params).items():\n",
    "#             p.data.zero_()\n",
    "#             precision_matrices[n] = var2device(p.data) \n",
    "\n",
    "#         # we need the model to calculate the gradient but\n",
    "#         # we have no intention in this step to actually update the model\n",
    "#         # that will have to wait for the combining of this EWC loss term\n",
    "#         # with the new task's loss term \n",
    "#         self.model.eval()\n",
    "#         for input in self.dataset:\n",
    "#             self.model.zero_grad()\n",
    "#             # remove channel dim, these are greyscale, not color rgb images\n",
    "#             # bs,1,h,w -> bs,h,w\n",
    "#             # input = input.squeeze(1) # for MLP\n",
    "#             input = var2device(input) #[784] vector\n",
    "#             # output = self.model(input).view(1, -1) #[1,10]\n",
    "#             output = self.model(input)\n",
    "#             print(output.shape)\n",
    "#             label = output.max(1)[1].view(-1) \n",
    "#             # calculate loss and backprop\n",
    "#             loss = F.nll_loss(F.log_softmax(output, dim=1), label)\n",
    "#             loss.backward() \n",
    "\n",
    "#             for n, p in self.model.named_parameters():\n",
    "#                 precision_matrices[n].data += p.grad.data ** 2 / len(self.dataset)\n",
    "\n",
    "#         precision_matrices = {n: p for n, p in precision_matrices.items()}\n",
    "#         return precision_matrices\n",
    "\n",
    "#     def penalty(self, model: nn.Module):\n",
    "#         loss = 0\n",
    "#         for n, p in model.named_parameters():\n",
    "#             _loss = self._precision_matrices[n] * (p - self._means[n]) ** 2\n",
    "#             loss += _loss.sum() \n",
    "#         return loss \n",
    "    \n",
    "# # place the model pretrained on mnist, but not fashion-mnist, along with some mnist examples\n",
    "# # into the Elastic Weight Consolidation object to perform EWC related tasks like calculating the\n",
    "# # Fisher Matrix\n",
    "# ewc = EWC(model, old_tasks)    "
   ]
  },
  {
   "cell_type": "code",
   "execution_count": 46,
   "metadata": {},
   "outputs": [],
   "source": [
    "class EWC(object):\n",
    "    \n",
    "    \"\"\"\n",
    "    Class to calculate the Fisher Information Matrix\n",
    "    used in the Elastic Weight Consolidation portion\n",
    "    of the loss function\n",
    "    \"\"\"\n",
    "    \n",
    "    def __init__(self, model: nn.Module, dataset):\n",
    "\n",
    "        self.model = model #pretrained model\n",
    "        self.dataset = dataset   \n",
    "        self.params = {n: p for n, p in self.model.named_parameters() if p.requires_grad}\n",
    "        self._means = {}\n",
    "        for n, p in deepcopy(self.params).items():\n",
    "            self._means[n] = var2device(p.data)\n",
    "        \n",
    "        # calculate the fisher information matrix \n",
    "        self._precision_matrices = self._diag_fisher() \n",
    "\n",
    "    def _diag_fisher(self):\n",
    "        precision_matrices = {}\n",
    "        for n, p in deepcopy(self.params).items():\n",
    "            p.data.zero_()\n",
    "            precision_matrices[n] = var2device(p.data) \n",
    "\n",
    "        self.model.eval()\n",
    "        for input, target in self.dataset:\n",
    "            self.model.zero_grad()\n",
    "            input, target = var2device(input), var2device(target)\n",
    "            output = self.model(input)\n",
    "            _, predicted = torch.max(output.data, -1)\n",
    "            loss = F.nll_loss(F.log_softmax(output, dim=1), predicted)\n",
    "            # loss = F.cross_entropy(output, target)\n",
    "            loss.backward() \n",
    "\n",
    "            for n, p in self.model.named_parameters():\n",
    "                precision_matrices[n].data += p.grad.data ** 2 / len(self.dataset)\n",
    "\n",
    "        precision_matrices = {n: p for n, p in precision_matrices.items()}\n",
    "        return precision_matrices\n",
    "\n",
    "    def penalty(self, model: nn.Module):\n",
    "        loss = 0\n",
    "        for n, p in model.named_parameters():\n",
    "            _loss = self._precision_matrices[n] * (p - self._means[n]) ** 2\n",
    "            loss += _loss.sum() \n",
    "        return loss \n",
    "\n",
    "ewc = EWC(model, train_loader_mnist)    "
   ]
  },
  {
   "cell_type": "markdown",
   "metadata": {},
   "source": [
    "### Empirical Estimate of the Fisher Information Matrix\n",
    "\n",
    "Lets work through the _diag_fisher() method that calculates the fisher matrix, \n",
    "\n",
    "\n",
    "together, step by step\n",
    "\n",
    "as a reminder here is the equation for the fisher matrix one more time\n",
    "\n",
    "$$\n",
    "I_{\\theta_\\mathcal{A}^*} = \\frac{1}{N}  \\sum_{i=1}^{N} \\nabla_\\theta log \\ p(x_{\\mathcal{A}, i}|\\theta_\\mathcal{A}^*) \\nabla_\\theta log \\ p(x_{\\mathcal{A}, i}|\\theta_\\mathcal{A}^*)^T\n",
    "$$\n",
    "\n",
    "To my understanding, the equation is saying, sum N of these matrices on top of each other such that the resultant matrix is the same shape of the individual matrices. The gradient term $\\nabla_\\theta log \\ p(x_{\\mathcal{A}, i}|\\theta_\\mathcal{A}^*)$ is a vector and the expression $ \\nabla_\\theta log \\ p(x_{\\mathcal{A}, i}|\\theta_\\mathcal{A}^*) \\nabla_\\theta log \\ p(x_{\\mathcal{A}, i}|\\theta_\\mathcal{A}^*)^T$ represents the [outer product](https://en.wikipedia.org/wiki/Outer_product) of these two vectors to produce a matrix where the elements of that matrix we are interested in is the diagonal $F_{ii}$. ie we are interested in $I_{ii}$, not $I_{ij}$. \n",
    "\n",
    "note: does this mean that in addition to penalizing moving $\\theta_i$ when $F_{ii}$ is high,  we could also penalize moving both $\\theta_i$ and $\\theta_j$ together when $F_{ij}$ is high?\n",
    "\n",
    "### The Fisher Information Matrix is w.r.t the log probability of the NN prediction p(y|x,theta), rather than w.r.t the log likelihood of the data p(x|theta)\n",
    "\n",
    "notice that the term grad log p(D|theta)\n",
    "\n",
    "$$\\nabla_\\theta log \\ p(x_{\\mathcal{A}, i}|\\theta_\\mathcal{A}^*)$$\n",
    "\n",
    "looks alot like the formula for the gradient of the loss function with respect to the parameters.\n",
    "\n",
    "Thats because for the purposes of EWC, it is!\n",
    "\n",
    "from the [Overcoming catastrophic forgetting in neural networks paper](https://www.pnas.org/content/114/13/3521):\n",
    "\n",
    "\"\"\"\n",
    "Note that the log probability of the data given the parameters logp(D|θ) is simply the negative of the loss function for the problem at hand −L(θ). \n",
    "\"\"\"\n",
    "\n",
    "The key mental leap we need to make is that in our machine learning model, p(D|θ) is the probability of the target label given the parameters rather than the p(X|θ) we are used to seeing that represents the likelihood of observing X given θ. \n",
    "\n",
    "Had the neural netword ended in a softmax layer the term $p(x_{\\mathcal{A}, i}|\\theta_\\mathcal{A}^*)$ would be the softmax output, but in the code this is combined with the log using the F.log_softmax function. \n",
    "\n",
    "$ log \\ p(x_{\\mathcal{A}, i}|\\theta_\\mathcal{A}^*)$ is the log likelihood. In the code below this is:\n",
    "\n",
    "```\n",
    "F.log_softmax(output, dim=1)\n",
    "```\n",
    "\n",
    "from [the pytorch docs](https://pytorch.org/docs/stable/generated/torch.nn.NLLLoss.html#torch.nn.NLLLoss)\n",
    "\n",
    "\"\"\"\n",
    "Obtaining log-probabilities in a neural network is easily achieved by adding a LogSoftmax layer in the last layer of your network. You may use CrossEntropyLoss instead, if you prefer not to add an extra layer.\n",
    "\"\"\"\n",
    "\n",
    "Meaning that the full line of code:\n",
    "\n",
    "```\n",
    "F.nll_loss(F.log_softmax(output, dim=1), label)\n",
    "```\n",
    "\n",
    "is essentially the cross entropy loss"
   ]
  },
  {
   "cell_type": "code",
   "execution_count": 47,
   "metadata": {},
   "outputs": [
    {
     "name": "stdout",
     "output_type": "stream",
     "text": [
      "name of this layer's weights: conv1.weight\n",
      "shape of this matrix W torch.Size([32, 1, 3, 3])\n",
      "norm of the matrix 0.0\n"
     ]
    }
   ],
   "source": [
    "precision_matrices = {}\n",
    "for n, p in deepcopy(ewc.params).items():\n",
    "    \n",
    "    print(\"name of this layer's weights:\", n)\n",
    "    p.data.zero_()\n",
    "    precision_matrices[n] = var2device(p.data)\n",
    "    print(\"shape of this matrix W\", precision_matrices[n].shape)\n",
    "    #print(precision_matrices[n])\n",
    "    print(\"norm of the matrix\",torch.norm(precision_matrices[n]).item())\n",
    "    break "
   ]
  },
  {
   "cell_type": "markdown",
   "metadata": {},
   "source": [
    "#### the code above\n",
    "As a reminder, your input shape x is (batch_size, 784) becasue 28*28 = 784. \n",
    "\n",
    "The matrix W of this first linear, aka affine, aka fully connect layer, is\n",
    "(256, 784) because xW^T = a of shape (batch_size, 256) which is the shape of the first layer's activations\n",
    "\n",
    "#### the code below\n",
    "we pass just one image through our model, and examine the tensors being created\n",
    "as they are applied to just the first layer of parameters ofcourse the\n",
    "real thing accumulates this update through all the samples and all the layers"
   ]
  },
  {
   "cell_type": "code",
   "execution_count": 48,
   "metadata": {},
   "outputs": [
    {
     "data": {
      "text/plain": [
       "{'conv1.weight': tensor([[[[5.6699e-05, 6.6018e-05, 6.1571e-05],\n",
       "           [7.5177e-05, 8.5962e-05, 7.6380e-05],\n",
       "           [7.9938e-05, 9.0831e-05, 7.5535e-05]]],\n",
       " \n",
       " \n",
       "         [[[1.4916e-08, 1.1538e-09, 6.5037e-09],\n",
       "           [1.6752e-08, 5.3811e-08, 6.9650e-08],\n",
       "           [7.3237e-08, 7.9513e-08, 4.1785e-08]]],\n",
       " \n",
       " \n",
       "         [[[6.1601e-05, 7.3979e-05, 6.4034e-05],\n",
       "           [6.9587e-05, 7.1701e-05, 4.4158e-05],\n",
       "           [5.3360e-05, 5.1238e-05, 3.4631e-05]]],\n",
       " \n",
       " \n",
       "         [[[1.2069e-05, 2.1110e-05, 3.6759e-05],\n",
       "           [2.1589e-05, 4.5709e-05, 5.0882e-05],\n",
       "           [3.0835e-05, 5.3516e-05, 4.5283e-05]]],\n",
       " \n",
       " \n",
       "         [[[5.5793e-05, 4.8678e-05, 3.6931e-05],\n",
       "           [6.4471e-05, 6.3917e-05, 5.4493e-05],\n",
       "           [5.6746e-05, 6.2612e-05, 5.7064e-05]]],\n",
       " \n",
       " \n",
       "         [[[4.5057e-05, 7.8310e-05, 7.6806e-05],\n",
       "           [5.2827e-05, 7.4013e-05, 7.1471e-05],\n",
       "           [3.5866e-05, 3.8014e-05, 3.5869e-05]]],\n",
       " \n",
       " \n",
       "         [[[6.1124e-05, 6.5109e-05, 6.8384e-05],\n",
       "           [3.6820e-05, 3.7815e-05, 4.3215e-05],\n",
       "           [2.0914e-05, 3.1381e-05, 2.3907e-05]]],\n",
       " \n",
       " \n",
       "         [[[2.9906e-07, 3.1527e-07, 3.4836e-07],\n",
       "           [9.1761e-08, 1.1441e-07, 1.3756e-07],\n",
       "           [7.6713e-11, 6.6782e-10, 3.2418e-10]]],\n",
       " \n",
       " \n",
       "         [[[7.5342e-05, 7.9340e-05, 6.2333e-05],\n",
       "           [8.6293e-05, 8.1740e-05, 5.0443e-05],\n",
       "           [7.5365e-05, 7.0219e-05, 5.4857e-05]]],\n",
       " \n",
       " \n",
       "         [[[1.0957e-05, 2.3718e-05, 2.6242e-05],\n",
       "           [2.6010e-05, 2.7065e-05, 1.7936e-05],\n",
       "           [2.3313e-05, 1.5549e-05, 9.0926e-06]]],\n",
       " \n",
       " \n",
       "         [[[5.3561e-07, 8.2916e-07, 2.2692e-06],\n",
       "           [5.0814e-08, 1.2618e-07, 2.2970e-06],\n",
       "           [1.2453e-07, 1.2667e-06, 7.0810e-06]]],\n",
       " \n",
       " \n",
       "         [[[1.3520e-10, 5.4600e-09, 1.7081e-10],\n",
       "           [1.6906e-10, 7.5915e-09, 5.2289e-10],\n",
       "           [4.1483e-10, 6.6754e-09, 1.7901e-09]]],\n",
       " \n",
       " \n",
       "         [[[1.5587e-06, 1.6653e-06, 3.6482e-06],\n",
       "           [1.1954e-06, 1.2641e-06, 3.9512e-06],\n",
       "           [2.3829e-06, 1.4161e-06, 1.6511e-06]]],\n",
       " \n",
       " \n",
       "         [[[4.8501e-05, 5.8915e-05, 4.6620e-05],\n",
       "           [6.1924e-05, 6.7847e-05, 4.0830e-05],\n",
       "           [6.4578e-05, 6.4473e-05, 4.3070e-05]]],\n",
       " \n",
       " \n",
       "         [[[5.2766e-06, 5.8202e-06, 7.5546e-06],\n",
       "           [4.5130e-06, 8.6634e-06, 1.5261e-05],\n",
       "           [7.9830e-06, 9.2941e-06, 1.3518e-05]]],\n",
       " \n",
       " \n",
       "         [[[2.2397e-05, 2.9317e-05, 3.3523e-05],\n",
       "           [3.3194e-05, 4.5011e-05, 3.7112e-05],\n",
       "           [4.4210e-05, 4.4173e-05, 2.7349e-05]]],\n",
       " \n",
       " \n",
       "         [[[5.7642e-06, 8.6849e-06, 7.9629e-06],\n",
       "           [5.7906e-06, 9.3593e-06, 9.5444e-06],\n",
       "           [7.3397e-06, 9.6182e-06, 9.8181e-06]]],\n",
       " \n",
       " \n",
       "         [[[9.0259e-06, 3.0212e-06, 1.5309e-06],\n",
       "           [5.1298e-06, 1.8413e-06, 2.5310e-06],\n",
       "           [1.6519e-06, 6.3229e-07, 4.8094e-06]]],\n",
       " \n",
       " \n",
       "         [[[2.1296e-12, 2.8142e-10, 8.4109e-09],\n",
       "           [4.8825e-11, 5.3324e-10, 1.7410e-08],\n",
       "           [1.2628e-09, 2.5437e-12, 2.1125e-10]]],\n",
       " \n",
       " \n",
       "         [[[7.3458e-05, 7.9189e-05, 5.7880e-05],\n",
       "           [5.2623e-05, 4.3891e-05, 4.3861e-05],\n",
       "           [2.4782e-05, 2.4062e-05, 3.3322e-05]]],\n",
       " \n",
       " \n",
       "         [[[9.2148e-05, 6.2662e-05, 2.5323e-05],\n",
       "           [6.1856e-05, 2.4880e-05, 1.2268e-05],\n",
       "           [2.5517e-05, 1.2452e-05, 6.5574e-06]]],\n",
       " \n",
       " \n",
       "         [[[2.1127e-05, 1.7343e-05, 1.4378e-05],\n",
       "           [9.6302e-06, 8.6885e-06, 1.3957e-05],\n",
       "           [7.5254e-06, 9.2109e-06, 1.9283e-05]]],\n",
       " \n",
       " \n",
       "         [[[3.2480e-05, 3.8481e-05, 3.9327e-05],\n",
       "           [6.7436e-05, 5.6071e-05, 2.4856e-05],\n",
       "           [4.9551e-05, 4.2519e-05, 1.7321e-05]]],\n",
       " \n",
       " \n",
       "         [[[1.3441e-05, 1.6929e-05, 2.2813e-05],\n",
       "           [2.1153e-05, 2.8757e-05, 2.9777e-05],\n",
       "           [1.9781e-05, 2.8666e-05, 2.6140e-05]]],\n",
       " \n",
       " \n",
       "         [[[3.0355e-05, 3.8130e-05, 3.3430e-05],\n",
       "           [3.9317e-05, 4.2335e-05, 3.4695e-05],\n",
       "           [3.5739e-05, 3.5012e-05, 2.5010e-05]]],\n",
       " \n",
       " \n",
       "         [[[2.3721e-05, 6.3071e-05, 1.3847e-04],\n",
       "           [3.1886e-05, 1.0384e-04, 2.0155e-04],\n",
       "           [5.2308e-05, 1.1426e-04, 1.7893e-04]]],\n",
       " \n",
       " \n",
       "         [[[2.0411e-05, 7.1018e-06, 3.6013e-06],\n",
       "           [1.7446e-05, 8.7048e-06, 9.2895e-06],\n",
       "           [2.4453e-05, 2.5383e-05, 3.1306e-05]]],\n",
       " \n",
       " \n",
       "         [[[3.8846e-05, 3.7302e-05, 3.3890e-05],\n",
       "           [5.0771e-05, 5.7938e-05, 5.6318e-05],\n",
       "           [4.7646e-05, 5.5345e-05, 5.7027e-05]]],\n",
       " \n",
       " \n",
       "         [[[5.3568e-06, 8.8076e-06, 1.4540e-05],\n",
       "           [4.2963e-06, 4.2534e-06, 2.4093e-06],\n",
       "           [4.9784e-06, 1.4121e-06, 1.3285e-06]]],\n",
       " \n",
       " \n",
       "         [[[3.8551e-07, 7.4009e-07, 1.5101e-06],\n",
       "           [1.1256e-07, 5.8871e-07, 1.8097e-06],\n",
       "           [1.2008e-08, 5.2665e-07, 1.2170e-06]]],\n",
       " \n",
       " \n",
       "         [[[8.8428e-07, 1.0205e-06, 2.5987e-07],\n",
       "           [1.1901e-06, 3.6862e-07, 4.4328e-07],\n",
       "           [5.0482e-06, 2.3305e-06, 2.4896e-06]]],\n",
       " \n",
       " \n",
       "         [[[2.8533e-07, 4.9188e-07, 2.3079e-06],\n",
       "           [7.4643e-07, 3.2635e-07, 5.1002e-07],\n",
       "           [2.8136e-06, 6.6772e-07, 9.8524e-07]]]], device='cuda:0'),\n",
       " 'conv1.bias': tensor([3.1383e-04, 9.0926e-08, 1.7261e-04, 4.5225e-04, 4.9983e-04, 2.7082e-04,\n",
       "         2.8599e-04, 3.6787e-07, 2.1432e-04, 4.3110e-05, 1.1959e-05, 1.2723e-08,\n",
       "         3.3031e-04, 4.1077e-05, 1.9618e-05, 2.1544e-05, 1.3317e-04, 1.8746e-04,\n",
       "         2.9355e-08, 1.2392e-04, 2.0083e-04, 1.3249e-04, 1.3984e-04, 9.4140e-05,\n",
       "         1.1944e-04, 2.8848e-04, 1.2060e-04, 3.9508e-04, 4.3883e-04, 2.1697e-06,\n",
       "         3.0560e-04, 1.2110e-05], device='cuda:0'),\n",
       " 'fc1.weight': tensor([[4.2553e-07, 4.2553e-07, 4.2573e-07,  ..., 1.9503e-08, 1.7909e-08,\n",
       "          1.7898e-08],\n",
       "         [1.2341e-07, 1.2344e-07, 1.2410e-07,  ..., 5.4137e-09, 5.2005e-09,\n",
       "          5.1905e-09],\n",
       "         [8.7320e-07, 8.7330e-07, 8.7590e-07,  ..., 3.8643e-08, 3.6757e-08,\n",
       "          3.6727e-08],\n",
       "         ...,\n",
       "         [1.4144e-06, 1.4143e-06, 1.4145e-06,  ..., 6.1125e-08, 5.9491e-08,\n",
       "          5.9488e-08],\n",
       "         [9.2674e-07, 9.2675e-07, 9.2674e-07,  ..., 3.8883e-08, 3.8979e-08,\n",
       "          3.8979e-08],\n",
       "         [1.1591e-06, 1.1591e-06, 1.1591e-06,  ..., 4.9483e-08, 4.8747e-08,\n",
       "          4.8751e-08]], device='cuda:0'),\n",
       " 'fc1.bias': tensor([6.3706e-06, 1.8475e-06, 1.3073e-05, 1.4035e-05, 1.0539e-05, 4.1002e-08,\n",
       "         1.6858e-05, 6.8687e-06, 4.7388e-06, 2.0093e-05, 1.5776e-05, 1.5687e-05,\n",
       "         1.1816e-05, 1.4394e-05, 2.2464e-05, 5.0529e-09, 2.2237e-05, 2.0065e-06,\n",
       "         1.5952e-05, 1.9010e-06, 1.0657e-05, 1.8356e-05, 6.1270e-06, 8.7688e-06,\n",
       "         1.9160e-05, 1.3279e-05, 1.3633e-10, 1.3019e-05, 9.9909e-06, 1.4400e-05,\n",
       "         8.7324e-06, 1.5831e-05, 1.3402e-05, 1.9306e-05, 7.5521e-06, 1.8000e-10,\n",
       "         1.2407e-09, 5.8955e-06, 1.8835e-05, 1.1311e-05, 1.7640e-06, 1.6348e-05,\n",
       "         1.0297e-05, 1.6903e-05, 1.6084e-05, 1.1880e-05, 1.5953e-05, 1.3476e-05,\n",
       "         1.5235e-05, 3.2710e-06, 1.4907e-06, 6.0541e-06, 2.3486e-05, 1.5682e-05,\n",
       "         1.4716e-05, 2.6542e-05, 1.0854e-05, 1.6519e-05, 1.4929e-05, 1.1597e-05,\n",
       "         3.2266e-05, 7.9760e-06, 3.5561e-06, 1.1744e-05, 4.3568e-06, 4.1802e-06,\n",
       "         1.2674e-05, 1.5007e-05, 1.8077e-05, 9.2325e-06, 1.7930e-05, 1.2311e-05,\n",
       "         1.8802e-05, 1.6673e-05, 2.2950e-05, 1.1385e-05, 1.6633e-05, 7.2543e-07,\n",
       "         1.9256e-05, 1.7204e-05, 7.5184e-06, 1.2974e-06, 3.0877e-07, 1.9236e-05,\n",
       "         8.7336e-06, 2.1146e-05, 6.1280e-06, 2.6761e-05, 1.2939e-05, 7.8666e-06,\n",
       "         1.3141e-05, 5.1894e-06, 3.1244e-05, 4.8169e-06, 1.0732e-05, 3.6003e-09,\n",
       "         7.9197e-06, 2.1174e-05, 1.3874e-05, 1.7352e-05], device='cuda:0'),\n",
       " 'fc2.weight': tensor([[3.8414e-05, 9.7205e-07, 7.6113e-04, 5.8467e-04, 2.7575e-05, 7.7677e-12,\n",
       "          6.5645e-04, 3.8855e-04, 1.2644e-04, 4.7691e-05, 1.9031e-05, 6.9291e-04,\n",
       "          1.2910e-05, 7.8478e-04, 4.6350e-05, 7.9046e-12, 9.8886e-04, 8.4750e-07,\n",
       "          2.4091e-04, 1.0156e-04, 3.7911e-04, 5.0568e-04, 3.1009e-04, 2.3920e-04,\n",
       "          3.0891e-04, 2.0395e-05, 7.8560e-17, 4.1136e-04, 7.2861e-05, 1.1325e-04,\n",
       "          1.8553e-05, 3.4399e-04, 9.2595e-05, 2.6394e-05, 1.0167e-05, 4.7088e-16,\n",
       "          8.8179e-14, 2.1002e-06, 2.0971e-03, 1.3339e-04, 7.9502e-05, 2.8101e-04,\n",
       "          3.3073e-04, 2.4546e-04, 5.3014e-04, 1.3571e-03, 1.7420e-03, 2.1493e-04,\n",
       "          2.4411e-04, 5.8254e-05, 2.7973e-07, 2.0721e-05, 4.5568e-05, 3.9475e-05,\n",
       "          6.0725e-04, 2.0086e-04, 3.3205e-04, 1.3265e-04, 1.4717e-04, 4.2077e-04,\n",
       "          6.8389e-06, 1.0924e-04, 5.1587e-05, 1.0612e-04, 1.7895e-04, 1.6197e-05,\n",
       "          7.7015e-04, 1.7042e-04, 1.7707e-04, 2.0168e-05, 2.4680e-05, 3.9581e-04,\n",
       "          5.9812e-04, 8.1136e-05, 4.0153e-04, 3.0234e-04, 6.2818e-04, 6.2645e-08,\n",
       "          1.0683e-03, 6.0954e-05, 5.1180e-04, 3.8107e-06, 2.4863e-07, 9.1620e-04,\n",
       "          4.6644e-05, 1.0246e-03, 6.2053e-04, 2.2932e-04, 2.6850e-04, 4.5912e-05,\n",
       "          7.1554e-04, 6.0355e-05, 3.9224e-04, 7.4816e-05, 7.1112e-04, 2.1925e-10,\n",
       "          7.4679e-05, 1.6598e-04, 1.4702e-04, 7.3880e-06],\n",
       "         [2.0170e-06, 2.0532e-06, 9.3316e-05, 2.0022e-04, 4.3283e-05, 3.3390e-10,\n",
       "          6.1826e-04, 2.8167e-04, 1.5453e-04, 9.6362e-05, 3.5278e-04, 3.3870e-04,\n",
       "          1.8165e-04, 2.2539e-03, 4.7474e-04, 3.0910e-10, 2.0790e-05, 2.8007e-06,\n",
       "          5.1555e-05, 1.1143e-06, 7.4412e-04, 5.2031e-04, 2.9499e-05, 7.6010e-05,\n",
       "          1.2677e-04, 3.4003e-05, 1.1180e-15, 1.7110e-04, 1.4322e-04, 4.0631e-05,\n",
       "          1.9534e-04, 2.6131e-05, 5.6110e-05, 4.6264e-05, 1.7176e-04, 9.0973e-15,\n",
       "          2.0731e-21, 3.0254e-05, 2.7888e-04, 6.9162e-04, 4.6727e-07, 5.2410e-05,\n",
       "          6.7207e-05, 1.6929e-05, 2.3232e-05, 2.5886e-04, 2.0155e-04, 1.1310e-04,\n",
       "          4.6740e-05, 2.2410e-06, 8.8043e-07, 4.1713e-04, 3.7603e-04, 4.7159e-05,\n",
       "          1.2440e-04, 1.3603e-03, 5.0231e-04, 4.2492e-05, 4.9237e-04, 6.1401e-06,\n",
       "          2.5770e-04, 3.1579e-05, 2.7051e-05, 5.4880e-05, 2.3736e-06, 1.2674e-06,\n",
       "          7.5005e-05, 1.0516e-04, 1.4481e-05, 1.8703e-04, 3.1567e-05, 1.5437e-04,\n",
       "          1.6863e-03, 5.1109e-05, 5.8079e-04, 5.3411e-04, 6.0066e-04, 3.3861e-07,\n",
       "          2.5463e-04, 2.0948e-04, 1.0402e-05, 2.5695e-06, 1.3196e-06, 1.1789e-03,\n",
       "          3.8849e-05, 3.7601e-04, 1.0015e-04, 4.2417e-05, 2.2117e-05, 1.3969e-04,\n",
       "          7.5679e-04, 8.9244e-05, 4.5574e-04, 4.9107e-05, 2.6259e-04, 4.1298e-13,\n",
       "          9.8749e-05, 2.7956e-04, 9.6782e-05, 3.0498e-04],\n",
       "         [8.0336e-06, 5.9619e-06, 8.0250e-04, 6.0287e-04, 7.7967e-05, 9.4670e-11,\n",
       "          2.0884e-03, 3.8063e-04, 2.6842e-04, 3.6295e-04, 9.4084e-05, 1.0357e-03,\n",
       "          1.0588e-04, 3.5544e-03, 6.6587e-04, 1.3613e-09, 7.3030e-04, 2.1697e-06,\n",
       "          2.0299e-04, 7.1562e-05, 9.0894e-04, 1.4298e-03, 2.6466e-04, 6.6154e-04,\n",
       "          1.8162e-04, 8.5194e-05, 1.4771e-14, 4.6949e-04, 3.1621e-04, 2.9459e-04,\n",
       "          2.3335e-04, 6.3812e-04, 6.3914e-05, 1.1046e-04, 1.7599e-04, 4.8284e-12,\n",
       "          3.5607e-13, 1.9976e-05, 1.8827e-03, 8.3399e-04, 2.9045e-05, 6.1153e-04,\n",
       "          1.2301e-04, 3.1146e-04, 2.5403e-04, 1.3345e-03, 1.4047e-03, 4.7735e-04,\n",
       "          4.7561e-04, 7.8393e-05, 7.3984e-07, 3.8192e-04, 3.0963e-04, 2.7393e-04,\n",
       "          9.1794e-04, 9.3702e-04, 1.1859e-03, 1.9637e-04, 5.4523e-04, 3.3618e-04,\n",
       "          2.5002e-04, 1.4149e-04, 1.3995e-04, 4.4696e-04, 1.7608e-04, 2.2511e-06,\n",
       "          5.5192e-04, 6.4931e-04, 9.6080e-05, 1.6184e-04, 1.5689e-04, 5.4253e-04,\n",
       "          1.6289e-03, 4.0882e-04, 1.3187e-03, 8.1399e-04, 1.0410e-03, 2.9827e-07,\n",
       "          1.6835e-03, 4.9544e-04, 4.4207e-04, 1.0068e-05, 5.1091e-07, 1.3557e-03,\n",
       "          5.5039e-05, 1.3803e-03, 6.0421e-04, 4.9463e-04, 2.0216e-04, 5.9666e-05,\n",
       "          1.4090e-03, 1.7531e-04, 8.6171e-04, 2.0012e-04, 1.3105e-03, 4.2811e-10,\n",
       "          5.9447e-05, 3.9959e-04, 2.2249e-04, 5.8708e-05],\n",
       "         [5.1656e-05, 1.0362e-06, 9.6777e-04, 1.1632e-03, 1.6226e-05, 9.2480e-11,\n",
       "          2.4266e-03, 5.9756e-04, 3.8730e-04, 7.1720e-04, 3.6561e-04, 5.0223e-04,\n",
       "          1.5522e-04, 4.5636e-03, 7.3134e-04, 9.3930e-10, 3.6698e-04, 1.1848e-05,\n",
       "          5.3781e-04, 4.1061e-05, 1.4499e-03, 2.5920e-03, 3.8936e-04, 5.9141e-04,\n",
       "          2.3145e-04, 5.4865e-04, 3.1163e-11, 8.4431e-04, 3.4155e-04, 2.2533e-04,\n",
       "          6.6204e-05, 1.0662e-03, 1.8816e-04, 3.6337e-04, 4.6623e-05, 7.2287e-14,\n",
       "          1.8493e-17, 5.5494e-05, 2.8689e-03, 5.5777e-04, 1.3196e-05, 2.7795e-04,\n",
       "          5.0176e-04, 1.1908e-04, 3.5903e-04, 1.4512e-03, 1.6115e-03, 1.1619e-04,\n",
       "          8.8591e-04, 8.8963e-05, 2.4884e-07, 6.5593e-04, 1.9622e-04, 3.0847e-04,\n",
       "          6.7608e-04, 1.7258e-03, 7.9270e-04, 1.2251e-04, 6.6501e-04, 5.9612e-04,\n",
       "          4.4346e-04, 5.2349e-05, 3.1549e-05, 5.5584e-04, 2.4020e-04, 1.5068e-05,\n",
       "          1.2571e-03, 1.3240e-03, 2.0229e-04, 4.5056e-05, 1.1159e-04, 4.5655e-04,\n",
       "          3.2841e-03, 4.5233e-04, 1.1107e-03, 1.3458e-03, 1.9745e-03, 5.0067e-07,\n",
       "          1.6723e-03, 3.4159e-04, 1.4001e-04, 1.9092e-05, 2.0062e-06, 3.5193e-03,\n",
       "          6.1501e-05, 2.2644e-03, 9.5907e-04, 3.7263e-04, 3.0473e-04, 1.8545e-04,\n",
       "          1.6539e-03, 3.6609e-04, 1.1376e-03, 3.9081e-04, 1.3777e-03, 1.0988e-11,\n",
       "          9.6304e-05, 1.8430e-04, 5.1012e-04, 2.6271e-04],\n",
       "         [2.6603e-05, 1.3348e-05, 1.0420e-03, 7.0983e-05, 2.5856e-04, 7.2030e-10,\n",
       "          2.4184e-03, 3.4183e-04, 8.8832e-05, 9.9514e-05, 4.5255e-04, 2.9822e-04,\n",
       "          1.1833e-04, 2.4892e-03, 2.8162e-04, 8.3837e-10, 2.0302e-03, 5.6423e-07,\n",
       "          8.9859e-05, 3.5286e-05, 2.3508e-03, 3.3203e-03, 1.3491e-04, 6.5513e-05,\n",
       "          9.1066e-04, 5.6206e-04, 3.8199e-15, 1.4146e-03, 6.2323e-05, 1.0904e-03,\n",
       "          4.0980e-05, 2.0190e-04, 8.1267e-05, 5.9251e-04, 1.4600e-04, 1.3296e-12,\n",
       "          6.1650e-10, 6.1651e-05, 3.5881e-03, 2.6351e-04, 1.7356e-05, 9.2366e-04,\n",
       "          1.0628e-04, 2.8432e-04, 1.7500e-04, 4.7264e-04, 7.2010e-04, 5.8214e-04,\n",
       "          1.3579e-05, 1.0561e-04, 1.4554e-06, 1.9824e-04, 4.8752e-04, 7.9158e-06,\n",
       "          8.6444e-04, 1.0035e-03, 4.2005e-04, 8.6906e-04, 4.2089e-04, 3.0171e-04,\n",
       "          4.8207e-04, 7.1312e-04, 1.4095e-04, 1.3862e-04, 1.7620e-04, 4.0840e-05,\n",
       "          8.0743e-04, 2.4201e-05, 2.9036e-04, 1.6054e-04, 3.8352e-04, 1.1679e-03,\n",
       "          1.3174e-03, 5.3639e-05, 1.0130e-03, 1.6639e-03, 4.5994e-04, 3.1184e-06,\n",
       "          5.1952e-04, 2.2227e-04, 3.1555e-04, 6.0110e-07, 7.3507e-08, 1.0541e-03,\n",
       "          1.9568e-04, 3.3747e-03, 4.8019e-04, 2.3677e-04, 2.5737e-05, 6.6420e-05,\n",
       "          4.9234e-04, 5.1012e-04, 1.8176e-03, 1.3193e-04, 1.2668e-03, 4.5310e-12,\n",
       "          4.8011e-04, 7.6957e-04, 6.8118e-06, 4.3149e-04],\n",
       "         [1.5009e-04, 4.9686e-06, 9.9224e-04, 8.7985e-04, 2.9517e-05, 5.8719e-10,\n",
       "          1.3867e-03, 7.8651e-04, 3.2335e-04, 5.0505e-04, 2.2233e-04, 6.2209e-04,\n",
       "          5.3443e-05, 3.5767e-03, 1.6633e-04, 1.0143e-11, 8.9292e-04, 8.9947e-06,\n",
       "          3.0585e-04, 3.8839e-05, 1.3465e-03, 2.4423e-03, 3.3218e-04, 1.8037e-04,\n",
       "          4.8975e-04, 6.0250e-04, 2.7864e-11, 6.9238e-04, 2.0611e-04, 1.5509e-04,\n",
       "          4.0338e-05, 5.8872e-04, 2.3602e-04, 4.4093e-04, 1.3290e-04, 1.9343e-13,\n",
       "          1.2072e-13, 2.8562e-05, 3.4557e-03, 5.0374e-04, 4.4555e-05, 4.0323e-04,\n",
       "          6.0823e-04, 2.7709e-04, 5.8811e-04, 1.7915e-03, 2.2068e-03, 3.6267e-04,\n",
       "          5.7856e-04, 4.8088e-05, 1.8673e-06, 3.9807e-04, 2.4318e-04, 6.7460e-05,\n",
       "          9.5816e-04, 1.6133e-03, 5.9727e-04, 3.6769e-04, 8.0365e-04, 8.8329e-04,\n",
       "          1.5897e-04, 1.7159e-04, 4.8969e-05, 1.5044e-04, 3.2395e-04, 3.2744e-05,\n",
       "          1.4586e-03, 8.5059e-04, 2.4940e-04, 1.3087e-04, 2.8364e-04, 6.1172e-04,\n",
       "          2.8782e-03, 1.8755e-04, 7.9996e-04, 9.9745e-04, 1.9106e-03, 1.8854e-07,\n",
       "          1.0616e-03, 1.9925e-04, 3.4296e-04, 1.0960e-05, 2.7820e-06, 2.8796e-03,\n",
       "          1.1502e-04, 1.6305e-03, 8.7931e-04, 1.3951e-04, 3.7232e-04, 2.6385e-04,\n",
       "          1.2567e-03, 2.4130e-04, 1.1027e-03, 2.5990e-04, 9.1209e-04, 2.0780e-10,\n",
       "          2.1053e-04, 6.8959e-04, 5.0906e-04, 1.2083e-04],\n",
       "         [4.1400e-05, 5.3722e-06, 5.9929e-04, 2.9253e-04, 8.3252e-05, 4.8425e-15,\n",
       "          8.8036e-04, 4.7037e-04, 1.2747e-04, 8.5240e-05, 1.1408e-04, 9.5256e-04,\n",
       "          8.6874e-06, 2.1012e-03, 1.0375e-04, 3.3041e-10, 1.4585e-03, 1.0797e-06,\n",
       "          2.0515e-05, 4.5275e-05, 8.1777e-04, 1.2280e-03, 1.7681e-04, 5.3659e-05,\n",
       "          9.0668e-05, 4.4985e-05, 1.5511e-17, 1.5198e-04, 1.8698e-05, 2.9996e-04,\n",
       "          1.0904e-04, 5.8675e-05, 6.5704e-05, 4.6270e-05, 1.8510e-04, 4.6177e-20,\n",
       "          6.3336e-10, 1.4024e-05, 1.6255e-03, 6.4741e-04, 3.5166e-05, 6.9481e-04,\n",
       "          1.8802e-04, 3.1677e-04, 1.2246e-04, 1.2660e-03, 1.4518e-03, 8.1205e-04,\n",
       "          8.2248e-05, 6.3424e-05, 6.7917e-07, 1.2743e-04, 5.0395e-05, 5.7777e-06,\n",
       "          8.5085e-04, 7.9820e-04, 6.8677e-04, 4.7121e-04, 7.1139e-04, 3.6062e-04,\n",
       "          4.5254e-05, 1.1878e-04, 7.2867e-05, 3.5835e-05, 1.8131e-04, 9.5478e-06,\n",
       "          4.4840e-04, 5.5385e-05, 2.7330e-04, 7.4440e-05, 1.5632e-04, 8.6856e-04,\n",
       "          1.1811e-03, 4.9119e-05, 6.1760e-04, 4.0454e-04, 5.1847e-04, 1.3078e-07,\n",
       "          8.0258e-04, 2.0877e-04, 4.1664e-04, 4.8848e-06, 7.3243e-07, 5.8282e-04,\n",
       "          3.4750e-05, 4.7322e-04, 3.0811e-04, 3.1311e-04, 2.9863e-05, 1.3582e-04,\n",
       "          8.7716e-04, 5.2087e-05, 1.1329e-03, 2.9386e-05, 9.4735e-04, 2.5774e-11,\n",
       "          3.8608e-05, 6.4840e-04, 8.7338e-05, 1.7074e-05],\n",
       "         [3.9781e-05, 7.0726e-06, 1.0603e-03, 6.0085e-05, 6.2825e-05, 1.7958e-09,\n",
       "          2.4901e-03, 1.8484e-04, 6.8919e-05, 8.4456e-05, 3.2022e-04, 1.1646e-04,\n",
       "          2.0168e-04, 1.3748e-03, 4.6357e-04, 1.1785e-11, 9.3301e-04, 1.0705e-06,\n",
       "          5.0527e-04, 1.3494e-05, 2.0039e-03, 1.5449e-03, 1.9227e-04, 1.8043e-04,\n",
       "          1.2985e-03, 2.1051e-04, 5.1074e-13, 1.5878e-03, 5.1234e-04, 6.2472e-04,\n",
       "          7.9664e-05, 4.2225e-04, 1.1131e-04, 2.4653e-04, 3.4977e-05, 4.0781e-11,\n",
       "          1.3902e-12, 2.3042e-05, 2.0820e-03, 1.2880e-04, 1.0540e-05, 3.1990e-04,\n",
       "          2.0379e-04, 7.3846e-05, 2.5199e-04, 2.9985e-04, 4.5141e-04, 5.9318e-05,\n",
       "          6.6032e-05, 1.2387e-04, 5.2448e-07, 1.6576e-04, 7.9521e-04, 3.3086e-04,\n",
       "          3.4267e-04, 5.7453e-04, 2.6197e-04, 2.2940e-04, 1.1744e-04, 1.8542e-04,\n",
       "          7.2848e-04, 3.9393e-04, 6.3655e-05, 9.5083e-05, 9.4743e-05, 4.4685e-05,\n",
       "          6.7499e-04, 2.8116e-04, 1.5685e-04, 5.9671e-05, 5.4257e-05, 3.1773e-04,\n",
       "          1.4242e-03, 2.8678e-04, 4.5496e-04, 1.6129e-03, 4.4354e-04, 1.1036e-06,\n",
       "          6.4484e-04, 1.0723e-04, 6.6093e-05, 4.6244e-07, 2.5671e-07, 1.6104e-03,\n",
       "          9.1840e-05, 4.0792e-03, 4.4940e-04, 2.2834e-04, 1.7770e-04, 5.4710e-05,\n",
       "          4.8786e-04, 6.3598e-04, 4.9669e-04, 1.2905e-04, 7.4472e-04, 6.3623e-13,\n",
       "          3.4449e-04, 8.0657e-05, 4.5420e-05, 3.8679e-04],\n",
       "         [4.9010e-05, 5.1141e-06, 1.2915e-03, 1.0557e-03, 5.8537e-05, 7.2437e-10,\n",
       "          2.6058e-03, 8.0744e-04, 4.2688e-04, 3.2805e-04, 2.5345e-04, 6.8123e-04,\n",
       "          1.3481e-04, 5.8462e-03, 8.7202e-04, 1.3557e-11, 7.5756e-04, 3.2401e-06,\n",
       "          2.7678e-04, 5.0839e-05, 1.7673e-03, 2.7599e-03, 2.2737e-04, 4.3499e-04,\n",
       "          3.0418e-04, 5.0792e-04, 4.0468e-14, 1.1927e-03, 4.1396e-04, 1.1674e-04,\n",
       "          1.2348e-04, 4.5751e-04, 7.9319e-05, 3.4022e-04, 1.4906e-04, 4.9820e-14,\n",
       "          8.7366e-14, 3.3472e-05, 3.8373e-03, 1.1112e-03, 1.9923e-05, 6.8413e-04,\n",
       "          3.2852e-04, 3.7200e-04, 5.6986e-04, 1.4420e-03, 1.5992e-03, 2.4190e-04,\n",
       "          2.9897e-04, 4.1896e-05, 1.3642e-06, 6.1596e-04, 3.7050e-04, 8.9457e-05,\n",
       "          1.1444e-03, 2.6488e-03, 9.9513e-04, 1.7480e-04, 7.5785e-04, 4.4332e-04,\n",
       "          2.9235e-04, 9.8350e-05, 6.0148e-05, 3.9094e-04, 1.8309e-04, 6.3950e-06,\n",
       "          1.1012e-03, 5.0984e-04, 6.5284e-05, 1.4509e-04, 3.0368e-04, 8.9968e-04,\n",
       "          3.5668e-03, 2.3136e-04, 1.8864e-03, 1.8717e-03, 2.5643e-03, 2.5636e-07,\n",
       "          1.5220e-03, 3.8310e-04, 3.0679e-04, 3.3560e-06, 1.2372e-06, 3.2012e-03,\n",
       "          1.7686e-04, 2.5812e-03, 1.0247e-03, 7.0566e-05, 3.4903e-04, 2.3135e-04,\n",
       "          1.5808e-03, 4.3828e-04, 2.0834e-03, 3.2294e-04, 1.5473e-03, 8.9444e-10,\n",
       "          2.8826e-04, 9.5334e-04, 2.0010e-04, 2.6811e-04],\n",
       "         [5.8379e-05, 1.4883e-05, 1.8618e-03, 1.6018e-04, 2.4085e-04, 3.2959e-09,\n",
       "          4.0428e-03, 4.2336e-04, 1.2259e-04, 1.9081e-04, 7.7328e-04, 1.7631e-04,\n",
       "          2.0676e-04, 3.0773e-03, 6.4850e-04, 2.6194e-11, 1.6907e-03, 1.7837e-06,\n",
       "          5.1922e-04, 3.7307e-05, 3.5222e-03, 4.1046e-03, 2.7655e-04, 1.9671e-04,\n",
       "          1.7702e-03, 9.9165e-04, 8.6819e-14, 2.7806e-03, 3.9609e-04, 1.2238e-03,\n",
       "          3.2403e-05, 5.7900e-04, 1.0669e-04, 8.4742e-04, 1.0903e-04, 1.5051e-11,\n",
       "          5.6657e-12, 4.9863e-05, 4.9232e-03, 1.6611e-04, 1.2823e-05, 9.0008e-04,\n",
       "          2.3197e-04, 3.1567e-04, 4.9092e-04, 5.4013e-04, 8.6508e-04, 1.5581e-04,\n",
       "          7.3144e-05, 1.5093e-04, 8.4036e-07, 2.7843e-04, 8.4080e-04, 1.2219e-04,\n",
       "          6.9448e-04, 1.6350e-03, 3.9270e-04, 8.3149e-04, 2.7646e-04, 4.5270e-04,\n",
       "          7.4922e-04, 8.1606e-04, 9.7124e-05, 1.9282e-04, 2.1544e-04, 4.5652e-05,\n",
       "          1.4306e-03, 2.1992e-04, 1.8979e-04, 7.1327e-05, 2.5229e-04, 1.1260e-03,\n",
       "          2.2164e-03, 2.3918e-04, 1.0121e-03, 3.0170e-03, 9.1211e-04, 3.6483e-06,\n",
       "          7.0492e-04, 8.1370e-05, 2.0335e-04, 4.1470e-07, 3.3689e-07, 2.5468e-03,\n",
       "          2.7989e-04, 6.7457e-03, 8.9466e-04, 1.4485e-04, 1.5577e-04, 1.4237e-04,\n",
       "          7.4862e-04, 1.0463e-03, 1.7530e-03, 2.5677e-04, 1.5465e-03, 1.5144e-10,\n",
       "          7.8399e-04, 4.9998e-04, 5.5630e-05, 8.7886e-04]], device='cuda:0'),\n",
       " 'fc2.bias': tensor([5.3939e-05, 5.6678e-05, 1.0486e-04, 1.3622e-04, 1.2101e-04, 1.2890e-04,\n",
       "         7.3075e-05, 9.7287e-05, 1.4819e-04, 1.6825e-04], device='cuda:0')}"
      ]
     },
     "execution_count": 48,
     "metadata": {},
     "output_type": "execute_result"
    }
   ],
   "source": [
    "ewc._precision_matrices "
   ]
  },
  {
   "cell_type": "code",
   "execution_count": 49,
   "metadata": {},
   "outputs": [
    {
     "data": {
      "text/plain": [
       "torch.return_types.max(\n",
       "values=tensor([0.9037, 0.9946, 0.9478, 0.8751, 0.9135, 0.9110, 0.9384, 0.9148, 0.8458,\n",
       "        0.7130, 0.8330, 0.9506, 0.9998, 0.9495, 0.8907, 0.9691, 0.9112, 0.9998,\n",
       "        0.8865, 0.9785, 0.9624, 0.7480, 0.9244, 0.9156, 0.9970, 0.7684, 0.9932,\n",
       "        0.8848, 0.9573, 0.9233, 0.8091, 0.9595]),\n",
       "indices=tensor([8, 1, 3, 1, 2, 8, 6, 5, 6, 7, 5, 5, 7, 5, 1, 5, 6, 5, 9, 6, 9, 4, 2, 5,\n",
       "        2, 5, 1, 5, 9, 4, 1, 6]))"
      ]
     },
     "execution_count": 49,
     "metadata": {},
     "output_type": "execute_result"
    }
   ],
   "source": [
    "a = torch.rand(32,10)\n",
    "torch.max(a.data, -1) #[32,1]\n"
   ]
  },
  {
   "cell_type": "code",
   "execution_count": 50,
   "metadata": {},
   "outputs": [
    {
     "name": "stdout",
     "output_type": "stream",
     "text": [
      "output shape torch.Size([32, 10])\n",
      "input.shape torch.Size([32, 1, 28, 28])\n",
      "[-0.036797717, -2.971926, 2.920575, -2.649731, -0.8895552, 2.3018646, 10.779114, -9.191047, 0.23525256, -4.8528833]\n",
      "predicted number tensor(6, device='cuda:0')\n",
      "loss 0.11051948368549347\n"
     ]
    },
    {
     "data": {
      "image/png": "[encoded data removed]",
      "text/plain": [
       "<Figure size 640x480 with 1 Axes>"
      ]
     },
     "metadata": {},
     "output_type": "display_data"
    }
   ],
   "source": [
    "ewc.model.eval()\n",
    "# for input in ewc.dataset:\n",
    "#     ewc.model.zero_grad()\n",
    "#     # no need for the channel dim, these are greyscale, not color rgb images\n",
    "#     # bs,1,h,w -> bs,h,w\n",
    "#     # input = input.squeeze(1)\n",
    "#     input = var2device(input)\n",
    "#     output = ewc.model(input).view(1, -1)\n",
    "#     label = output.max(1)[1].view(-1)\n",
    "#     loss = F.nll_loss(F.log_softmax(output, dim=1), label)\n",
    "#     loss.backward()     \n",
    "#     break\n",
    "\n",
    "for input, target in ewc.dataset:\n",
    "    ewc.model.zero_grad()\n",
    "    input, target = var2device(input), var2device(target)\n",
    "    output = ewc.model(input)\n",
    "    print(\"output shape\",output.shape)\n",
    "    _, predicted = torch.max(output.data, -1) #[32,1]\n",
    "    loss = F.nll_loss(F.log_softmax(output, dim=1), predicted)\n",
    "    loss.backward() \n",
    "    break\n",
    "\n",
    "print(\"input.shape\", input.shape) #[32,1,28,28]\n",
    "img =(input[0].detach().cpu().numpy()*255).astype(np.uint8) #[1,28,28]\n",
    "img = Image.fromarray(np.squeeze(img))\n",
    "plt.imshow(img) \n",
    "\n",
    "print(list(output.detach().cpu().numpy()[0]))\n",
    "print(\"predicted number\",predicted[0])\n",
    "print(\"loss\",loss.item()) "
   ]
  },
  {
   "cell_type": "markdown",
   "metadata": {},
   "source": [
    "### sum the squares of the gradients\n",
    "\n",
    "the cell below is the last one you should run when comparing the [norm](https://pytorch.org/docs/stable/generated/torch.norm.html) of the matrix between when the model is pretrained or not.\n",
    "\n",
    "noticed that when you ran the above steps with a pretrained model, the norm is larger than when run with a randomly initialized model, why is this? "
   ]
  },
  {
   "cell_type": "code",
   "execution_count": 51,
   "metadata": {},
   "outputs": [
    {
     "name": "stdout",
     "output_type": "stream",
     "text": [
      "name of this layer's weights: conv1.weight\n",
      "shape of p.grad.data torch.Size([32, 1, 3, 3])\n",
      "shape of p.grad.data ** 2 torch.Size([32, 1, 3, 3])\n",
      "norm of the matrix 8.75483578965941e-07\n"
     ]
    }
   ],
   "source": [
    "for n, p in ewc.params.items():\n",
    "    print(\"name of this layer's weights:\", n)\n",
    "    print(\"shape of p.grad.data\", p.grad.data.shape)\n",
    "    print(\"shape of p.grad.data ** 2\", (p.grad.data ** 2).shape)\n",
    "    precision_matrices[n].data += p.grad.data ** 2 / len(ewc.dataset)\n",
    "    #print(precision_matrices[n])\n",
    "    print(\"norm of the matrix\",torch.norm(precision_matrices[n]).item())\n",
    "    break "
   ]
  },
  {
   "cell_type": "markdown",
   "metadata": {},
   "source": [
    "### The Math in the Code\n",
    "\n",
    "One clarification that I think needs to be made that was brought to my attention on [Reddit](https://www.reddit.com/r/MachineLearning/comments/t2riby/p_i_made_the_kind_of_tutorial_i_wish_someone_had/?utm_source=share&utm_medium=web2x&context=3). The equation for the empirical fisher below suggests we are calculating the full Fisher Matrix:\n",
    "\n",
    "$$\n",
    "I_{\\theta_\\mathcal{A}^*} = \\frac{1}{N}  \\sum_{i=1}^{N} \\nabla_\\theta log \\ p(x_{\\mathcal{A}, i}|\\theta_\\mathcal{A}^*) \\nabla_\\theta log \\ p(x_{\\mathcal{A}, i}|\\theta_\\mathcal{A}^*)^T\n",
    "$$\n",
    "\n",
    "But in the code we are not, this line is where the diagonal terms are calculated\n",
    "\n",
    "```\n",
    "p.grad.data ** 2\n",
    "```\n",
    "\n",
    "the above line of code corresponds only to the diagonal component of the matrix $I_{\\theta_\\mathcal{A}^*}$ above.\n",
    "\n",
    "Notice `p.grad.data ** 2` is the same shape as the W for each layer, thats becasue `** 2` is an element-wise operation where we square every element. which is essentially the gradient of the loss function w.r.t. just one parameter, aka weight, multiplied by itself. If we took all the layer's `p.grad.data ** 2`'s and flattened them out into a very long vector, then that would be the just diagonal of the fisher matrix we see in the above equation. So we have only calculated the F_ii terms of the matrix and none of the F_ij terms. \n",
    "\n",
    "note: the diagonal therefore must all be positive valued\n",
    "\n",
    "The fisher diagonals are summed over all the N examples and divided by N, aka we average them to get the mean, aka the expectation, which is why in the actual EWS class, the code is written\n",
    "\n",
    "```\n",
    "+= p.grad.data ** 2 / len(self.dataset)\n",
    "```\n",
    "\n",
    "and placed in the inner loop of:\n",
    "\n",
    "```\n",
    "for input in self.dataset:\n",
    "```\n",
    "\n",
    "After the code accumulates over all N examples, it completes the rest of the equation:\n",
    "\n",
    "$$\n",
    "\\frac{1}{N}  \\sum_{i=1}^{N} \\nabla_\\theta log \\ p(x_{\\mathcal{A}, i}|\\theta_\\mathcal{A}^*) \\nabla_\\theta log \\ p(x_{\\mathcal{A}, i}|\\theta_\\mathcal{A}^*)^T\n",
    "$$\n",
    "\n",
    "\n",
    "### using the F_i in the overall loss function\n",
    "\n",
    "this line of code in the `penalty()` method of the EWS class\n",
    "\n",
    "```\n",
    "_loss = self._precision_matrices[n] * (p - self._means[n]) ** 2\n",
    "```\n",
    "\n",
    "corresponds to this formula\n",
    "\n",
    "$$ F_{i} \\left(\\theta_{i} - \\theta_{A , i}^{*}\\right)^{2} $$\n",
    "\n",
    "where `self._precision_matrices[n]` = $ F_{i}$ and \n",
    "`(p - self._means[n]) ** 2` = $\\left(\\theta_{i} - \\theta_{A , i}^{*}\\right)^{2} $\n",
    "\n",
    "this is then summed over all parameters `loss += _loss.sum()`\n",
    "and done for each layer, which is why the `penaly()` method places this line of code in the inner loop of `for n, p in model.named_parameters():`\n",
    "\n",
    "later in the code for EWC training, this has to be added to the loss for task B `F.cross_entropy(output, target)` and scaled by \n",
    "\n",
    "$\\lambda$ = importance, for the full line of code:\n",
    "\n",
    "`loss = F.cross_entropy(output, target) + importance * ewc.penalty(model)`\n",
    "\n",
    "which is the equivalent of our EWC loss function\n",
    "\n",
    "$$\n",
    "L \\left(\\right. \\theta \\left.\\right) = L_{B} \\left(\\right. \\theta \\left.\\right) + \\underset{i}{\\sum} \\frac{\\lambda}{2} F_{i} \\left(\\theta_{i} - \\theta_{A , i}^{*}\\right)^{2} $$\n",
    "\n",
    "### Explaination\n",
    "\n",
    "For the full proof read [Fisher Information Matrix by Agustinus Kristiadi](https://agustinus.kristia.de/techblog/2018/03/11/fisher-information/) or [Fisher Information Matrix by Yuan-Hong Liao](https://andrewliao11.github.io/blog/fisher-info-matrix/). \n",
    "\n",
    "The end result of the proof is that \"The Fisher is the negative expectation of the Hessian of the log-likelihood\"\n",
    "\n",
    "The Hessian is a square matrix of second-order partial derivatives of a scalar-valued function, or scalar field. It describes the local curvature of a function of many variables. So the diagonal of the Hessian is the 2nd derivative of the loss (negative log likelihood) with respect to the parameters.  Imagine if you only had 2 parameters, the Fisher Information over a patch of values for $\\theta_i$ adn $\\theta_j$ might look like this:\n",
    "\n",
    "Hypothetical F_ij Surface, ignore the vertical axis label for now\n",
    "<p align=\"center\">\n",
    "<img src=\"https://raw.githubusercontent.com/clam004/chat-transformer/main/saved/images/LossTopology.png\" height=800 width=800 >\n",
    "</p>\n",
    "\n",
    "The warmer areas (more red) are the areas of higher curvature, the areas of higher curvature are the areas of local minima and maxima. If you turn the above figure upside down, this would look just like the topological manifold, aka surface, of the loss function, And what is gradient descent trying to do? it is trying to find a local minima on this loss surface, aka a local maxima on the fisher information surface. \n",
    "\n",
    "In intuitive terms, both the Hessian and Fisher Matrix describe how sharp, ie curved, each point in $\\theta$ space is, with respect to the loss.\n",
    "\n",
    "But wait a minute, cant we have a valley with a very flat and wide floor? yes we can, and it very well might be that some of our parameters have settled into such a region while training on task A. However, if that is the case, then while $\\theta$ is in the center of such a region, it can move in various directions and still contribute to good performance on task A, which means we should not penalize changes in this region until $\\theta$ reaches the edge of such a region, in which case, the Fisher information should start to increase. \n",
    "\n",
    "Basically the Fisher Matrix is the negative of this matrix below, where you replace f with log[p(x|theta)] and replace x with theta\n",
    "<p align=\"center\">\n",
    "<img src=\"https://wikimedia.org/api/rest_v1/media/math/render/svg/d2b255c49df2a6e084b9196ab71a68872a739ead\" height=400 width=400 >\n",
    "</p>\n",
    "\n",
    "*The $F_i$ is higher for those $\\theta_i$ that are already optimized into a narrow region and thus if changed, would cause an increase in the loss for task A, thereby reducing the performance on task A described by that loss. More of these \"important and just right\" parameters will exist for trained models and thus the norm on the fisher diagonals will be higher. For models not yet trained on task A, there are fewer parameters that have been optimized to help solve task A, therefore fewer parameters that when changed will have a significant effect on the loss for task A*"
   ]
  },
  {
   "cell_type": "code",
   "execution_count": 52,
   "metadata": {},
   "outputs": [
    {
     "data": {
      "text/plain": [
       "tensor(0., device='cuda:0', grad_fn=<AddBackward0>)"
      ]
     },
     "execution_count": 52,
     "metadata": {},
     "output_type": "execute_result"
    }
   ],
   "source": [
    "# since the parameters have not changed yet, we expect (𝜃 - 𝜃∗)2 to be zero throughout\n",
    "ewc.penalty(model)"
   ]
  },
  {
   "cell_type": "markdown",
   "metadata": {},
   "source": [
    "### EWC Training\n",
    "\n",
    "Load a model pretrained on MNIST, then train it on Fashion-MNIST while observing the new training's effect on MNIST performance"
   ]
  },
  {
   "cell_type": "code",
   "execution_count": 53,
   "metadata": {},
   "outputs": [
    {
     "name": "stdout",
     "output_type": "stream",
     "text": [
      "accuracy on mnist test set 0.9474999904632568\n"
     ]
    }
   ],
   "source": [
    "# verify that the model you are about to retrain is indeed pretrained\n",
    "acc = test(model,test_loader_mnist)\n",
    "print(\"accuracy on mnist test set\", acc.item()) "
   ]
  },
  {
   "cell_type": "code",
   "execution_count": 54,
   "metadata": {},
   "outputs": [],
   "source": [
    "def one_epoch_ewc(\n",
    "    ewc: EWC, \n",
    "    importance: float,\n",
    "    model: nn.Module, \n",
    "    data_loader: torch.utils.data.DataLoader, \n",
    "    lr = 1e-3,\n",
    "):\n",
    "    model.train()\n",
    "    epoch_loss = 0\n",
    "    optimizer = optim.SGD(params=model.parameters(), lr=lr)\n",
    "    for input, target in data_loader:\n",
    "        # no need for the channel dim\n",
    "        # bs,1,h,w -> bs,h,w\n",
    "        # input = input.squeeze(1) #for MLP\n",
    "        input, target = var2device(input), var2device(target)\n",
    "        optimizer.zero_grad()\n",
    "        output = model(input)\n",
    "        loss = F.cross_entropy(output, target) + importance * ewc.penalty(model)\n",
    "        epoch_loss += loss.item()\n",
    "        loss.backward()\n",
    "        optimizer.step()\n",
    "    return epoch_loss / len(data_loader) \n",
    "\n",
    "def ewc_training(\n",
    "    ewc,\n",
    "    importance,\n",
    "    model, \n",
    "    epochs, \n",
    "    train_loader,\n",
    "    test_loader,\n",
    "    test2_loader = None,\n",
    "    use_cuda=True, \n",
    "):\n",
    "    \n",
    "    \"\"\"\n",
    "    This function saves the training curve data consisting\n",
    "    training set loss and validation set accuracy over the\n",
    "    course of the epochs of training.\n",
    "    \n",
    "    I set this up such that if you provide 2 test sets,you\n",
    "    can watch the test accuracy change together during training\n",
    "    on train_loder\n",
    "    \"\"\"\n",
    "    \n",
    "    if torch.cuda.is_available() and use_cuda:\n",
    "        model.cuda()\n",
    "        \n",
    "    train_loss, val_acc, val2_acc = [], [], []\n",
    "    \n",
    "    for epoch in tqdm(range(epochs)):\n",
    "\n",
    "        epoch_loss = one_epoch_ewc(ewc,importance, model,train_loader)\n",
    "        train_loss.append(epoch_loss)\n",
    "        \n",
    "        acc = test(model,test_loader)\n",
    "        val_acc.append(acc.detach().cpu().numpy())\n",
    "        \n",
    "        if test2_loader is not None:\n",
    "            acc2 = test(model,test2_loader)\n",
    "            val2_acc.append(acc2.detach().cpu().numpy()) \n",
    "            print(f\"epoch {epoch+1}, train_loss : {epoch_loss}, val_accuracy on testset 2 : {acc},val_accuracy on testset 1 is {acc2}\") \n",
    "    return train_loss, val_acc, val2_acc, model "
   ]
  },
  {
   "cell_type": "code",
   "execution_count": 55,
   "metadata": {},
   "outputs": [
    {
     "data": {
      "application/vnd.jupyter.widget-view+json": {
       "model_id": "e009bd428469437d8368d2c95b0c6dd3",
       "version_major": 2,
       "version_minor": 0
      },
      "text/plain": [
       "  0%|          | 0/25 [00:00<?, ?it/s]"
      ]
     },
     "metadata": {},
     "output_type": "display_data"
    },
    {
     "name": "stdout",
     "output_type": "stream",
     "text": [
      "epoch 1, train_loss : 1.1493504690170289, val_accuracy on testset 2 : 0.7313999533653259,val_accuracy on testset 1 is 0.8689000010490417\n",
      "epoch 2, train_loss : 0.8281214858690897, val_accuracy on testset 2 : 0.7637999653816223,val_accuracy on testset 1 is 0.8679999709129333\n",
      "epoch 3, train_loss : 0.7663305377642313, val_accuracy on testset 2 : 0.7784000039100647,val_accuracy on testset 1 is 0.870199978351593\n",
      "epoch 4, train_loss : 0.7311943500518799, val_accuracy on testset 2 : 0.7874999642372131,val_accuracy on testset 1 is 0.8739999532699585\n",
      "epoch 5, train_loss : 0.7068278043270111, val_accuracy on testset 2 : 0.7929999828338623,val_accuracy on testset 1 is 0.8651999831199646\n",
      "epoch 6, train_loss : 0.6861714461008708, val_accuracy on testset 2 : 0.8014000058174133,val_accuracy on testset 1 is 0.8579999804496765\n",
      "epoch 7, train_loss : 0.6691646100680033, val_accuracy on testset 2 : 0.8025999665260315,val_accuracy on testset 1 is 0.8603000044822693\n",
      "epoch 8, train_loss : 0.6547544247309367, val_accuracy on testset 2 : 0.8035999536514282,val_accuracy on testset 1 is 0.8575999736785889\n",
      "epoch 9, train_loss : 0.6417935620784759, val_accuracy on testset 2 : 0.8080999851226807,val_accuracy on testset 1 is 0.8583999872207642\n",
      "epoch 10, train_loss : 0.6301854950269064, val_accuracy on testset 2 : 0.8123999834060669,val_accuracy on testset 1 is 0.8446999788284302\n",
      "epoch 11, train_loss : 0.6188296424706777, val_accuracy on testset 2 : 0.8139999508857727,val_accuracy on testset 1 is 0.8366000056266785\n",
      "epoch 12, train_loss : 0.6095414259751638, val_accuracy on testset 2 : 0.8179999589920044,val_accuracy on testset 1 is 0.8428999781608582\n",
      "epoch 13, train_loss : 0.5997998390515645, val_accuracy on testset 2 : 0.8157999515533447,val_accuracy on testset 1 is 0.8382999897003174\n",
      "epoch 14, train_loss : 0.5914137753089269, val_accuracy on testset 2 : 0.818399965763092,val_accuracy on testset 1 is 0.8312000036239624\n",
      "epoch 15, train_loss : 0.5832653145074844, val_accuracy on testset 2 : 0.8226000070571899,val_accuracy on testset 1 is 0.8204999566078186\n",
      "epoch 16, train_loss : 0.5764396032253901, val_accuracy on testset 2 : 0.8159999847412109,val_accuracy on testset 1 is 0.8289999961853027\n",
      "epoch 17, train_loss : 0.569124721590678, val_accuracy on testset 2 : 0.8287999629974365,val_accuracy on testset 1 is 0.8226999640464783\n",
      "epoch 18, train_loss : 0.5630474971373876, val_accuracy on testset 2 : 0.8300999999046326,val_accuracy on testset 1 is 0.8144999742507935\n",
      "epoch 19, train_loss : 0.5569633707523346, val_accuracy on testset 2 : 0.8295999765396118,val_accuracy on testset 1 is 0.8122999668121338\n",
      "epoch 20, train_loss : 0.5514065264940262, val_accuracy on testset 2 : 0.8333999514579773,val_accuracy on testset 1 is 0.802899956703186\n",
      "epoch 21, train_loss : 0.5457369767824809, val_accuracy on testset 2 : 0.8346999883651733,val_accuracy on testset 1 is 0.8097999691963196\n",
      "epoch 22, train_loss : 0.5410570713202159, val_accuracy on testset 2 : 0.8355000019073486,val_accuracy on testset 1 is 0.793999969959259\n",
      "epoch 23, train_loss : 0.5361116822560629, val_accuracy on testset 2 : 0.8361999988555908,val_accuracy on testset 1 is 0.7908999919891357\n",
      "epoch 24, train_loss : 0.5316584191322327, val_accuracy on testset 2 : 0.8330999612808228,val_accuracy on testset 1 is 0.7888000011444092\n",
      "epoch 25, train_loss : 0.5272834593137106, val_accuracy on testset 2 : 0.8377999663352966,val_accuracy on testset 1 is 0.7872999906539917\n"
     ]
    }
   ],
   "source": [
    "torch.manual_seed(0)\n",
    "np.random.seed(0)\n",
    "random.seed(0)\n",
    "\n",
    "train_loss, val_acc, val2_acc, model = ewc_training(\n",
    "    ewc = ewc,\n",
    "    importance = 10000,\n",
    "    model = model,\n",
    "    epochs = 25,\n",
    "    train_loader = train_loader_fashion,\n",
    "    test_loader = test_loader_fashion,\n",
    "    test2_loader = test_loader_mnist,\n",
    ") "
   ]
  },
  {
   "cell_type": "code",
   "execution_count": 56,
   "metadata": {},
   "outputs": [
    {
     "data": {
      "image/png": "[encoded data removed]",
      "text/plain": [
       "<Figure size 640x480 with 1 Axes>"
      ]
     },
     "metadata": {},
     "output_type": "display_data"
    }
   ],
   "source": [
    "plt.figure()\n",
    "plt.xlabel('epochs', fontsize=25)\n",
    "plt.ylabel('validation accuracy', fontsize=25)\n",
    "plt.ylim([0.10, 0.99])\n",
    "plt.plot(val_acc, label='fashion')\n",
    "plt.plot(val2_acc, label='mnist')\n",
    "plt.legend()\n",
    "plt.show()  "
   ]
  },
  {
   "cell_type": "code",
   "execution_count": 42,
   "metadata": {},
   "outputs": [],
   "source": [
    "# save the trained model\n",
    "model = model.cpu()\n",
    "# torch.save(model, \"files/ewcmodel_cnn.pth\")\n",
    "torch.save(model.state_dict(), \"files/ewcmodel_cnn.pth\") "
   ]
  },
  {
   "cell_type": "markdown",
   "metadata": {},
   "source": [
    "### Conclusion\n",
    "\n",
    "We expect a result like this, where instead of the mnist accuracy dropping to below 30%, it degrades by a far lesser amount, it is still above 70%, from around 80% at the end of mnist training. meanwhile, learning of the fashion-mnist dataset still proceed forward, rising above 40% from a baseline below 10%. The performances here are modest, but that is not the point, im sure with architectures specialized for images like convolutional layers or vision transformers you can get the final accuracy much higher, the point here is that we were able to preserve previously learned capabilities of our NN\n",
    "\n",
    "<p align=\"center\">\n",
    "<img src=\"https://raw.githubusercontent.com/clam004/intro_continual_learning/main/files/ewc_training.png\" height=400 width=400 >\n",
    "</p>"
   ]
  },
  {
   "cell_type": "code",
   "execution_count": null,
   "metadata": {},
   "outputs": [],
   "source": []
  },
  {
   "cell_type": "code",
   "execution_count": null,
   "metadata": {},
   "outputs": [],
   "source": []
  },
  {
   "cell_type": "code",
   "execution_count": null,
   "metadata": {},
   "outputs": [],
   "source": []
  }
 ],
 "metadata": {
  "kernelspec": {
   "display_name": "Python 3 (ipykernel)",
   "language": "python",
   "name": "python3"
  },
  "language_info": {
   "codemirror_mode": {
    "name": "ipython",
    "version": 3
   },
   "file_extension": ".py",
   "mimetype": "text/x-python",
   "name": "python",
   "nbconvert_exporter": "python",
   "pygments_lexer": "ipython3",
   "version": "3.11.5"
  }
 },
 "nbformat": 4,
 "nbformat_minor": 2
}
