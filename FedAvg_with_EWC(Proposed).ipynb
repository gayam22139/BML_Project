{
 "cells": [
  {
   "cell_type": "code",
   "execution_count": 1,
   "metadata": {},
   "outputs": [],
   "source": [
    "#Importing required libraries \n",
    "import numpy as np\n",
    "import matplotlib.pyplot as plt\n",
    "import copy\n",
    "import torch\n",
    "import torch.nn as nn\n",
    "import torchvision\n",
    "import torchvision.models as models\n",
    "import torchvision.transforms as transforms\n",
    "import torch.optim as optim\n",
    "import torch.nn.functional as F \n",
    "\n",
    "from tqdm.notebook import tqdm "
   ]
  },
  {
   "cell_type": "code",
   "execution_count": 2,
   "metadata": {},
   "outputs": [],
   "source": [
    "import pickle\n",
    "with open('tasks_data.pkl','rb') as f:\n",
    "    tasks_obj = pickle.load(f)   "
   ]
  },
  {
   "cell_type": "code",
   "execution_count": 3,
   "metadata": {},
   "outputs": [],
   "source": [
    "import random \n",
    "def generate_client_data(task_data,clients): # task_data is train data of task 0 (tuple)\n",
    "    data_label_mapping = [(task_data[0][i],task_data[1][i]) for i in range(len(task_data[0]))]\n",
    "    random.shuffle(data_label_mapping)  \n",
    "    client_data = {}\n",
    "\n",
    "    start_div = 0\n",
    "    fragment_size = len(data_label_mapping)//clients\n",
    "    for i in range(clients):\n",
    "        client_data[i+1] = data_label_mapping[start_div:start_div+fragment_size]\n",
    "        start_div = start_div + fragment_size \n",
    "\n",
    "    return client_data"
   ]
  },
  {
   "cell_type": "code",
   "execution_count": 4,
   "metadata": {},
   "outputs": [],
   "source": [
    "class Train_Dataset(torch.utils.data.Dataset):\n",
    "\n",
    "    def __init__(self,train_set):\n",
    "        self.train_set = train_set\n",
    "    \n",
    "    def __len__(self):\n",
    "        return len(self.train_set)\n",
    "\n",
    "    def __getitem__(self,index):\n",
    "        x = self.train_set[index][0] \n",
    "        y = self.train_set[index][1]\n",
    "\n",
    "        return x,y     "
   ]
  },
  {
   "cell_type": "code",
   "execution_count": 5,
   "metadata": {},
   "outputs": [],
   "source": [
    "class Test_Dataset(torch.utils.data.Dataset):\n",
    "\n",
    "    def __init__(self,test_set):\n",
    "        self.test_set = test_set\n",
    "    \n",
    "    def __len__(self):\n",
    "        return len(self.test_set[0])\n",
    "    \n",
    "    def __getitem__(self,index):\n",
    "        x = self.test_set[0][index]\n",
    "        y = self.test_set[1][index]\n",
    "\n",
    "        return x,y"
   ]
  },
  {
   "cell_type": "code",
   "execution_count": 6,
   "metadata": {},
   "outputs": [],
   "source": [
    "task_dataloaders = {}\n",
    "task_testloaders = {}\n",
    "for task in range(len(tasks_obj)):\n",
    "    task_data = tasks_obj[task][0]\n",
    "    client_data_dict = generate_client_data(task_data,5) \n",
    "    client_dataloaders = []\n",
    "    num_clients = 5\n",
    "\n",
    "    for client in range(1,num_clients+1):\n",
    "        dataloader = torch.utils.data.DataLoader(Train_Dataset(client_data_dict[client]),batch_size=64,shuffle=True)\n",
    "        client_dataloaders.append(dataloader) \n",
    "    \n",
    "    testloader = torch.utils.data.DataLoader(Test_Dataset(tasks_obj[task][1]),batch_size=64) \n",
    "    task_dataloaders[task+1] = client_dataloaders\n",
    "    task_testloaders[task+1] = testloader "
   ]
  },
  {
   "cell_type": "code",
   "execution_count": 7,
   "metadata": {},
   "outputs": [],
   "source": [
    "class Net(nn.Module):\n",
    "    def __init__(self):\n",
    "        super(Net, self).__init__()\n",
    "        self.conv1 = nn.Conv2d(1, 10, kernel_size=5)\n",
    "        self.conv2 = nn.Conv2d(10, 20, kernel_size=5)\n",
    "        self.conv2_drop = nn.Dropout2d()\n",
    "        self.fc1 = nn.Linear(320, 50)\n",
    "        self.fc2 = nn.Linear(50, 10)\n",
    "\n",
    "    def forward(self, x):\n",
    "        x = F.relu(F.max_pool2d(self.conv1(x), 2))\n",
    "        x = F.relu(F.max_pool2d(self.conv2_drop(self.conv2(x)), 2))\n",
    "        x = x.view(-1, 320)\n",
    "        x = F.relu(self.fc1(x))\n",
    "        x = F.dropout(x, training=self.training)\n",
    "        x = self.fc2(x)\n",
    "        return x"
   ]
  },
  {
   "cell_type": "code",
   "execution_count": 8,
   "metadata": {},
   "outputs": [
    {
     "data": {
      "text/plain": [
       "<torch._C.Generator at 0x1c1b7fd3fd0>"
      ]
     },
     "execution_count": 8,
     "metadata": {},
     "output_type": "execute_result"
    }
   ],
   "source": [
    "import torch\n",
    "import torch.optim as optim\n",
    "use_cuda = True\n",
    "\n",
    "use_cuda = use_cuda and torch.cuda.is_available()\n",
    "device = torch.device(\"cuda\" if use_cuda else \"cpu\");\n",
    "torch.manual_seed(1)"
   ]
  },
  {
   "cell_type": "code",
   "execution_count": 9,
   "metadata": {},
   "outputs": [],
   "source": [
    "fisher_dict = {}\n",
    "optpar_dict = {}\n",
    "ewc_lambda = 0.4"
   ]
  },
  {
   "cell_type": "code",
   "execution_count": 10,
   "metadata": {},
   "outputs": [],
   "source": [
    "class FedAvg_ClientUpdate(object):\n",
    "    \n",
    "    def __init__(self, train_loader, round):\n",
    "\n",
    "        self.train_loader =  train_loader\n",
    "        self.curr_round = round\n",
    "        # Define Loss function\n",
    "        self.criterion = nn.CrossEntropyLoss()\n",
    "        \n",
    "\n",
    "    def update(self, net, max_epochs, lr):   \n",
    "        optimizer = optim.SGD(net.parameters(), lr = lr, momentum = 0.9)           \n",
    "        \n",
    "        train_losses = []\n",
    "\n",
    "        train_accs = []\n",
    "\n",
    "        # Loop over epochs\n",
    "        for _ in range(max_epochs):\n",
    "            \n",
    "            running_trainloss, train_acc = 0.0, 0.0\n",
    "            train_cnt = 0\n",
    "\n",
    "            # Training\n",
    "            for train_data, train_labels in self.train_loader:\n",
    "                # Transfer to GPU\n",
    "                train_data, train_labels = train_data.to(device), train_labels.to(device)\n",
    "                \n",
    "                # zero the parameter gradients\n",
    "                optimizer.zero_grad() \n",
    "\n",
    "                # Model computations\n",
    "                # forward + backward + optimize\n",
    "\n",
    "                batch_train_outputs = net(train_data) \n",
    "\n",
    "                loss = self.criterion(batch_train_outputs, train_labels)\n",
    "                \n",
    "                for round_num in range(self.curr_round):\n",
    "                    for name, param in net.named_parameters():\n",
    "                        fisher = fisher_dict[round_num][name] \n",
    "                        optpar = optpar_dict[round_num][name]\n",
    "                        loss += (fisher * (optpar - param).pow(2)).sum() * ewc_lambda\n",
    "\n",
    "                loss.backward()\n",
    "                optimizer.step()\n",
    "                \n",
    "                # print statistics\n",
    "                running_trainloss += loss.item()\n",
    "\n",
    "                train_acc += torch.sum(torch.argmax(batch_train_outputs, dim =1) ==  train_labels.long()) / torch.numel(train_labels)\n",
    "\n",
    "                train_cnt += 1\n",
    "           \n",
    "            train_losses.append(running_trainloss / train_cnt)\n",
    "            train_accs.append(train_acc / train_cnt )\n",
    "\n",
    "        return net.state_dict(), sum(train_losses) / len(train_losses), sum(train_accs) / len(train_accs) \n",
    "\n",
    "    def FedAvg(self, w_dict, w_prime_dict, coeff):\n",
    "        for k in w_dict.keys():\n",
    "            w_dict[k] = w_dict[k] + coeff * w_prime_dict[k]\n",
    "        return w_dict "
   ]
  },
  {
   "cell_type": "code",
   "execution_count": 11,
   "metadata": {},
   "outputs": [],
   "source": [
    "def on_round_update(round_id, dataloader, model):\n",
    "\n",
    "  model.train()\n",
    "  optimizer = optim.SGD(model.parameters(), lr=0.01, momentum=0.9)\n",
    "  optimizer.zero_grad()\n",
    "  \n",
    "  # accumulating gradients\n",
    "  for batch in dataloader:\n",
    "      x, y = batch\n",
    "      x, y = x.to(device), y.to(device)\n",
    "      output = model(x)\n",
    "      loss = F.cross_entropy(output, y)\n",
    "      loss.backward()\n",
    "\n",
    "  fisher_dict[round_id] = {}\n",
    "  optpar_dict[round_id] = {}\n",
    "\n",
    "  # gradients accumulated can be used to calculate fisher\n",
    "  for name, param in model.named_parameters():\n",
    "    \n",
    "    optpar_dict[round_id][name] = param.data.clone()\n",
    "    fisher_dict[round_id][name] = param.grad.data.clone().pow(2)"
   ]
  },
  {
   "cell_type": "code",
   "execution_count": 12,
   "metadata": {},
   "outputs": [],
   "source": [
    "def test_model(FedAvg_Model,tasks):\n",
    "    task_accs = []\n",
    "    with torch.set_grad_enabled(False):\n",
    "        for task in range(tasks+1):\n",
    "            val_acc = 0\n",
    "            val_cnt = 0\n",
    "            running_valloss = 0\n",
    "            criterion_FedAvg = nn.CrossEntropyLoss()\n",
    "\n",
    "            testloader = task_testloaders[task+1]\n",
    "            \n",
    "            for val_data, val_labels in testloader:\n",
    "                # Transfer to GPU\n",
    "                val_data, val_labels = val_data.to(device), val_labels.to(device)\n",
    "                \n",
    "                # Model computations\n",
    "                # forward + backward + optimize\n",
    "                batch_outputs = FedAvg_Model(val_data) #[64,10]\n",
    "                \n",
    "                val_loss = criterion_FedAvg(batch_outputs, val_labels.long())\n",
    "\n",
    "                running_valloss += val_loss.item()\n",
    "\n",
    "                val_acc += torch.sum(torch.argmax(batch_outputs, dim =1) ==  val_labels.long()) / torch.numel(val_labels) #.numel--> product of dim's\n",
    "                #long --> converts to int64                                                                               # [64,1] --> 64*1\n",
    "                val_acc = val_acc.item()\n",
    "                val_cnt += 1\n",
    "            \n",
    "            task_accs.append(np.round(val_acc/val_cnt*100,2))\n",
    "\n",
    "    return task_accs\n",
    "        "
   ]
  },
  {
   "cell_type": "code",
   "execution_count": 13,
   "metadata": {},
   "outputs": [
    {
     "data": {
      "application/vnd.jupyter.widget-view+json": {
       "model_id": "a3299c40f5c1403b95ad9df96c4f2e0d",
       "version_major": 2,
       "version_minor": 0
      },
      "text/plain": [
       "  0%|          | 0/3 [00:00<?, ?it/s]"
      ]
     },
     "metadata": {},
     "output_type": "display_data"
    },
    {
     "name": "stdout",
     "output_type": "stream",
     "text": [
      "Cost of Train data for client 1 in round 1 for 10 epochs: 1.379101\n",
      "Cost of Train data for client 2 in round 1 for 10 epochs: 1.377829\n",
      "Cost of Train data for client 3 in round 1 for 10 epochs: 1.396251\n",
      "Cost of Train data for client 4 in round 1 for 10 epochs: 1.374364\n",
      "Cost of Train data for client 5 in round 1 for 10 epochs: 1.370217\n",
      "----------\n",
      "Cost of Train data for in round 1: 1.379552\n",
      "Acc of Train data for in round 1: 52.248173\n",
      "Accuracy on Validation data of task 1:81.78\n",
      "----------\n",
      "Cost of Train data for client 1 in round 2 for 10 epochs: 1.715589\n",
      "Cost of Train data for client 2 in round 2 for 10 epochs: 1.722698\n",
      "Cost of Train data for client 3 in round 2 for 10 epochs: 1.721541\n",
      "Cost of Train data for client 4 in round 2 for 10 epochs: 1.722098\n",
      "Cost of Train data for client 5 in round 2 for 10 epochs: 1.717105\n",
      "----------\n",
      "Cost of Train data for in round 2: 1.719806\n",
      "Acc of Train data for in round 2: 43.922043\n",
      "Accuracy on Validation data of task 1:38.59\n",
      "Accuracy on Validation data of task 2:57.09\n",
      "----------\n",
      "Cost of Train data for client 1 in round 3 for 10 epochs: 1.985805\n",
      "Cost of Train data for client 2 in round 3 for 10 epochs: 1.994021\n",
      "Cost of Train data for client 3 in round 3 for 10 epochs: 1.991958\n",
      "Cost of Train data for client 4 in round 3 for 10 epochs: 2.005094\n",
      "Cost of Train data for client 5 in round 3 for 10 epochs: 1.990722\n",
      "----------\n",
      "Cost of Train data for in round 3: 1.993520\n",
      "Acc of Train data for in round 3: 37.790058\n",
      "Accuracy on Validation data of task 1:33.03\n",
      "Accuracy on Validation data of task 2:34.38\n",
      "Accuracy on Validation data of task 3:48.87\n",
      "----------\n"
     ]
    }
   ],
   "source": [
    "# Model \n",
    "FedAvg_Model =  Net().to(device)\n",
    "FedAvg_Model.to(device) \n",
    "\n",
    "task_accuracies = {}\n",
    "\n",
    "# Define Loss function and Optimizer\n",
    "criterion_FedAvg = nn.CrossEntropyLoss()\n",
    "\n",
    "train_losses_FedAvg = []\n",
    "validation_losses_FedAvg = []\n",
    "\n",
    "train_accs_FedAvg = []\n",
    "val_accs_FedAvg = []\n",
    "\n",
    "max_rounds = 3\n",
    "\n",
    "E = 10\n",
    "learning_rate = 0.001\n",
    "w_dict = copy.deepcopy(FedAvg_Model.state_dict())\n",
    "\n",
    "# Loop over epochs\n",
    "for round in tqdm(range(max_rounds)):\n",
    "    running_trainloss, running_valloss, train_acc = 0.0, 0.0, 0.0\n",
    "    train_cnt, val_cnt = 0, 0\n",
    "    coeffs = [1 / (num_clients) for i in range(num_clients)]\n",
    "    for k in w_dict.keys():\n",
    "        w_dict[k] = torch.zeros_like(w_dict[k])\n",
    "    \n",
    "    # Training\n",
    "    for i in range(num_clients):\n",
    "        cl_upd = FedAvg_ClientUpdate(task_dataloaders[round+1][i], round) \n",
    "        w_prime_dict, train_loss, acc = cl_upd.update(copy.deepcopy(FedAvg_Model).to(device), E, learning_rate)\n",
    "        w_dict = cl_upd.FedAvg(w_dict, w_prime_dict, coeffs[i])\n",
    "        print(\"Cost of Train data for client %i in round %i for %i epochs: %f\" %(i+1, round + 1, E, train_loss))      \n",
    "        running_trainloss += train_loss\n",
    "        train_acc += acc\n",
    "        train_cnt += 1\n",
    "\n",
    "\n",
    "    FedAvg_Model.load_state_dict(w_dict) # for calculating fisher I'm sending the data of last client\n",
    "    on_round_update(round, task_dataloaders[round+1][num_clients-1], FedAvg_Model)\n",
    "\n",
    "    task_accs = test_model(FedAvg_Model,round)\n",
    "\n",
    "\n",
    "    learning_rate = learning_rate * 0.99        \n",
    "    print(\"-\"*10)\n",
    "    print(\"Cost of Train data for in round %i: %f\" %(round + 1, running_trainloss / train_cnt))\n",
    "    print(\"Acc of Train data for in round %i: %f\" %(round + 1, train_acc / train_cnt * 100)) \n",
    " \n",
    "    for task,task_acc in enumerate(task_accs):\n",
    "        print(f\"Accuracy on Validation data of task {task+1}:{task_acc}\")\n",
    "        if task+1 in task_accuracies.keys():\n",
    "            task_accuracies[task+1].append(task_acc)\n",
    "        else:\n",
    "            task_accuracies[task+1] = [task_acc]\n",
    "\n",
    "    print(\"-\"*10)"
   ]
  },
  {
   "cell_type": "code",
   "execution_count": 14,
   "metadata": {},
   "outputs": [
    {
     "data": {
      "image/png": "[encoded data removed]",
      "text/plain": [
       "<Figure size 640x480 with 1 Axes>"
      ]
     },
     "metadata": {},
     "output_type": "display_data"
    }
   ],
   "source": [
    "plt.plot(task_accuracies[1],linestyle='--',color='red',marker='x')\n",
    "plt.plot(task_accuracies[2],linestyle='--',color='green',marker = 'x')\n",
    "plt.plot(task_accuracies[3],linestyle = '',color='blue',marker = '.')\n",
    "\n",
    "plt.legend(['task_1_accuracy','task_2_accuracy','task_3_accuracy'])\n",
    "\n",
    "plt.xticks(ticks=[0,1,2],labels = ['Task 1','Task 2','Task 3'],rotation=0)\n",
    "\n",
    "plt.title(\"Fed Avg without EWC\",fontsize = 16)\n",
    "plt.xlabel(\"\\nModel trained till task\",fontsize=14)\n",
    "plt.ylabel(\"Accuracy\",fontsize=14)\n",
    "\n",
    "plt.ylim(0,100)\n",
    "\n",
    "plt.show()"
   ]
  },
  {
   "cell_type": "code",
   "execution_count": null,
   "metadata": {},
   "outputs": [],
   "source": []
  }
 ],
 "metadata": {
  "kernelspec": {
   "display_name": "FedCIL",
   "language": "python",
   "name": "python3"
  },
  "language_info": {
   "codemirror_mode": {
    "name": "ipython",
    "version": 3
   },
   "file_extension": ".py",
   "mimetype": "text/x-python",
   "name": "python",
   "nbconvert_exporter": "python",
   "pygments_lexer": "ipython3",
   "version": "3.11.5"
  }
 },
 "nbformat": 4,
 "nbformat_minor": 2
}
